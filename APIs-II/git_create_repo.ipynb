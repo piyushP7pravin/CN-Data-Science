{
 "cells": [
  {
   "cell_type": "markdown",
   "metadata": {},
   "source": [
    "# github create repo"
   ]
  },
  {
   "cell_type": "code",
   "execution_count": null,
   "metadata": {},
   "outputs": [],
   "source": []
  },
  {
   "cell_type": "code",
   "execution_count": null,
   "metadata": {},
   "outputs": [],
   "source": [
    "# https://developer.github.com/v3/repos"
   ]
  },
  {
   "cell_type": "code",
   "execution_count": null,
   "metadata": {},
   "outputs": [],
   "source": [
    "#Client ID  :  #############################\n",
    "#Client Secret  :  #############################"
   ]
  },
  {
   "cell_type": "code",
   "execution_count": 13,
   "metadata": {},
   "outputs": [],
   "source": [
    "import requests\n",
    "import json"
   ]
  },
  {
   "cell_type": "code",
   "execution_count": null,
   "metadata": {},
   "outputs": [],
   "source": [
    "data = {\"client_id\":\"#############################\", \n",
    "        \"redirect_uri\":\"https://data-science.auth0.com/login/callback\",\n",
    "        \"state\":\"random_123\",\n",
    "        \"scope\":\"public_repo\"}\n",
    "response = requests.get(\"https://github.com/login/oauth/authorize\",params = data)\n",
    "print(response.url)"
   ]
  },
  {
   "cell_type": "code",
   "execution_count": null,
   "metadata": {},
   "outputs": [],
   "source": [
    "# code=#############################"
   ]
  },
  {
   "cell_type": "code",
   "execution_count": null,
   "metadata": {},
   "outputs": [],
   "source": [
    "data = {\"client_id\":\"#############################\",\n",
    "        \"client_secret\":\"#############################\",\n",
    "        \"code\":\"#############################\",\n",
    "        \"redirect_uri\":\"https://data-science.auth0.com/login/callback\",\n",
    "        \"state\":\"random_123\"\n",
    "        }\n",
    "r = requests.post(\"https://github.com/login/oauth/access_token\", data = data )\n",
    "                  \n",
    "print(r.text)"
   ]
  },
  {
   "cell_type": "code",
   "execution_count": 20,
   "metadata": {},
   "outputs": [
    {
     "name": "stdout",
     "output_type": "stream",
     "text": [
      "400\n"
     ]
    }
   ],
   "source": [
    "h={\"Authorization\": \"token #############################\", \"Accept\":\"application/vnd.github.baptiste-preview+json\" }\n",
    "data = {\"name\":\"DataScience API\",\n",
    "        \"description\":\"created via api call\"\n",
    "        }\n",
    "r = requests.post(\"https://api.github.com/user/repos\", headers=h, data=json.dumps(data))\n",
    "\n",
    "print(r.status_code)"
   ]
  },
  {
   "cell_type": "code",
   "execution_count": 30,
   "metadata": {},
   "outputs": [
    {
     "name": "stdout",
     "output_type": "stream",
     "text": [
      "201\n",
      "{\"id\":247055178,\"node_id\":\"MDEwOlJlcG9zaXRvcnkyNDcwNTUxNzg=\",\"name\":\"DataScience-API-3\",\"full_name\":\"p7dummy/DataScience-API-3\",\"private\":false,\"owner\":{\"login\":\"p7dummy\",\"id\":62095064,\"node_id\":\"MDQ6VXNlcjYyMDk1MDY0\",\"avatar_url\":\"https://avatars3.githubusercontent.com/u/62095064?v=4\",\"gravatar_id\":\"\",\"url\":\"https://api.github.com/users/p7dummy\",\"html_url\":\"https://github.com/p7dummy\",\"followers_url\":\"https://api.github.com/users/p7dummy/followers\",\"following_url\":\"https://api.github.com/users/p7dummy/following{/other_user}\",\"gists_url\":\"https://api.github.com/users/p7dummy/gists{/gist_id}\",\"starred_url\":\"https://api.github.com/users/p7dummy/starred{/owner}{/repo}\",\"subscriptions_url\":\"https://api.github.com/users/p7dummy/subscriptions\",\"organizations_url\":\"https://api.github.com/users/p7dummy/orgs\",\"repos_url\":\"https://api.github.com/users/p7dummy/repos\",\"events_url\":\"https://api.github.com/users/p7dummy/events{/privacy}\",\"received_events_url\":\"https://api.github.com/users/p7dummy/received_events\",\"type\":\"User\",\"site_admin\":false},\"html_url\":\"https://github.com/p7dummy/DataScience-API-3\",\"description\":\"created via api call\",\"fork\":false,\"url\":\"https://api.github.com/repos/p7dummy/DataScience-API-3\",\"forks_url\":\"https://api.github.com/repos/p7dummy/DataScience-API-3/forks\",\"keys_url\":\"https://api.github.com/repos/p7dummy/DataScience-API-3/keys{/key_id}\",\"collaborators_url\":\"https://api.github.com/repos/p7dummy/DataScience-API-3/collaborators{/collaborator}\",\"teams_url\":\"https://api.github.com/repos/p7dummy/DataScience-API-3/teams\",\"hooks_url\":\"https://api.github.com/repos/p7dummy/DataScience-API-3/hooks\",\"issue_events_url\":\"https://api.github.com/repos/p7dummy/DataScience-API-3/issues/events{/number}\",\"events_url\":\"https://api.github.com/repos/p7dummy/DataScience-API-3/events\",\"assignees_url\":\"https://api.github.com/repos/p7dummy/DataScience-API-3/assignees{/user}\",\"branches_url\":\"https://api.github.com/repos/p7dummy/DataScience-API-3/branches{/branch}\",\"tags_url\":\"https://api.github.com/repos/p7dummy/DataScience-API-3/tags\",\"blobs_url\":\"https://api.github.com/repos/p7dummy/DataScience-API-3/git/blobs{/sha}\",\"git_tags_url\":\"https://api.github.com/repos/p7dummy/DataScience-API-3/git/tags{/sha}\",\"git_refs_url\":\"https://api.github.com/repos/p7dummy/DataScience-API-3/git/refs{/sha}\",\"trees_url\":\"https://api.github.com/repos/p7dummy/DataScience-API-3/git/trees{/sha}\",\"statuses_url\":\"https://api.github.com/repos/p7dummy/DataScience-API-3/statuses/{sha}\",\"languages_url\":\"https://api.github.com/repos/p7dummy/DataScience-API-3/languages\",\"stargazers_url\":\"https://api.github.com/repos/p7dummy/DataScience-API-3/stargazers\",\"contributors_url\":\"https://api.github.com/repos/p7dummy/DataScience-API-3/contributors\",\"subscribers_url\":\"https://api.github.com/repos/p7dummy/DataScience-API-3/subscribers\",\"subscription_url\":\"https://api.github.com/repos/p7dummy/DataScience-API-3/subscription\",\"commits_url\":\"https://api.github.com/repos/p7dummy/DataScience-API-3/commits{/sha}\",\"git_commits_url\":\"https://api.github.com/repos/p7dummy/DataScience-API-3/git/commits{/sha}\",\"comments_url\":\"https://api.github.com/repos/p7dummy/DataScience-API-3/comments{/number}\",\"issue_comment_url\":\"https://api.github.com/repos/p7dummy/DataScience-API-3/issues/comments{/number}\",\"contents_url\":\"https://api.github.com/repos/p7dummy/DataScience-API-3/contents/{+path}\",\"compare_url\":\"https://api.github.com/repos/p7dummy/DataScience-API-3/compare/{base}...{head}\",\"merges_url\":\"https://api.github.com/repos/p7dummy/DataScience-API-3/merges\",\"archive_url\":\"https://api.github.com/repos/p7dummy/DataScience-API-3/{archive_format}{/ref}\",\"downloads_url\":\"https://api.github.com/repos/p7dummy/DataScience-API-3/downloads\",\"issues_url\":\"https://api.github.com/repos/p7dummy/DataScience-API-3/issues{/number}\",\"pulls_url\":\"https://api.github.com/repos/p7dummy/DataScience-API-3/pulls{/number}\",\"milestones_url\":\"https://api.github.com/repos/p7dummy/DataScience-API-3/milestones{/number}\",\"notifications_url\":\"https://api.github.com/repos/p7dummy/DataScience-API-3/notifications{?since,all,participating}\",\"labels_url\":\"https://api.github.com/repos/p7dummy/DataScience-API-3/labels{/name}\",\"releases_url\":\"https://api.github.com/repos/p7dummy/DataScience-API-3/releases{/id}\",\"deployments_url\":\"https://api.github.com/repos/p7dummy/DataScience-API-3/deployments\",\"created_at\":\"2020-03-13T11:23:29Z\",\"updated_at\":\"2020-03-13T11:23:29Z\",\"pushed_at\":\"2020-03-13T11:23:30Z\",\"git_url\":\"git://github.com/p7dummy/DataScience-API-3.git\",\"ssh_url\":\"git@github.com:p7dummy/DataScience-API-3.git\",\"clone_url\":\"https://github.com/p7dummy/DataScience-API-3.git\",\"svn_url\":\"https://github.com/p7dummy/DataScience-API-3\",\"homepage\":null,\"size\":0,\"stargazers_count\":0,\"watchers_count\":0,\"language\":null,\"has_issues\":true,\"has_projects\":true,\"has_downloads\":true,\"has_wiki\":true,\"has_pages\":false,\"forks_count\":0,\"mirror_url\":null,\"archived\":false,\"disabled\":false,\"open_issues_count\":0,\"license\":null,\"is_template\":false,\"forks\":0,\"open_issues\":0,\"watchers\":0,\"default_branch\":\"master\",\"permissions\":{\"admin\":true,\"push\":true,\"pull\":true},\"allow_squash_merge\":true,\"allow_merge_commit\":true,\"allow_rebase_merge\":true,\"delete_branch_on_merge\":false,\"template_repository\":null,\"network_count\":0,\"subscribers_count\":1}\n"
     ]
    }
   ],
   "source": [
    "h={\"Authorization\": \"token #############################\", \"Accept\":\"application/vnd.github.baptiste-preview+json\" }\n",
    "data = {\"name\":\"DataScience API 3\",\n",
    "        \"description\":\"created via api call\"\n",
    "        }\n",
    "r = requests.post(\"https://api.github.com/user/repos\", headers=h, data=json.dumps(data))\n",
    "\n",
    "print(r.status_code)\n"
   ]
  },
  {
   "cell_type": "code",
   "execution_count": null,
   "metadata": {},
   "outputs": [],
   "source": []
  }
 ],
 "metadata": {
  "kernelspec": {
   "display_name": "Python 3",
   "language": "python",
   "name": "python3"
  },
  "language_info": {
   "codemirror_mode": {
    "name": "ipython",
    "version": 3
   },
   "file_extension": ".py",
   "mimetype": "text/x-python",
   "name": "python",
   "nbconvert_exporter": "python",
   "pygments_lexer": "ipython3",
   "version": "3.7.3"
  }
 },
 "nbformat": 4,
 "nbformat_minor": 2
}
