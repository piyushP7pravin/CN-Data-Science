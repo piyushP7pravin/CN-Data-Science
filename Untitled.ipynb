{
 "cells": [
  {
   "cell_type": "code",
   "execution_count": 6,
   "metadata": {},
   "outputs": [
    {
     "name": "stdout",
     "output_type": "stream",
     "text": [
      "Afghanistan\n",
      "Sudan\n",
      "Democratic Republic of the Congo\n",
      "Democratic Republic of the Congo\n",
      "Turkey\n",
      "Syria\n",
      "Pakistan\n",
      "Italy\n",
      "Turkey\n",
      "Turkey\n"
     ]
    }
   ],
   "source": [
    "import csv\n",
    "\n",
    "with open('year2017.csv') as csvfile:\n",
    "    data = csv.reader(csvfile)\n",
    "    data_list = list(data)\n",
    "    for row in range(1,11):\n",
    "        print(data_list[row][3])"
   ]
  },
  {
   "cell_type": "code",
   "execution_count": 4,
   "metadata": {},
   "outputs": [
    {
     "name": "stdout",
     "output_type": "stream",
     "text": [
      "Afghanistan\n",
      "Sudan\n",
      "Democratic Republic of the Congo\n",
      "Democratic Republic of the Congo\n",
      "Turkey\n",
      "Syria\n",
      "Pakistan\n",
      "Italy\n",
      "Turkey\n",
      "Turkey\n"
     ]
    }
   ],
   "source": [
    "import csv\n",
    "with open(\"year2017.csv\") as file_obj:\n",
    "    file_data=csv.reader(file_obj)\n",
    "    a=list(file_data)\n",
    "    for i in range(1,11):\n",
    "        print(a[i][3])"
   ]
  },
  {
   "cell_type": "code",
   "execution_count": 3,
   "metadata": {},
   "outputs": [
    {
     "name": "stdout",
     "output_type": "stream",
     "text": [
      "{'Afghanistan': 11698, 'Sudan': 255, 'Democratic Republic of the Congo': 636, 'Turkey': 548, 'Syria': 2731, 'Pakistan': 3153, 'Italy': 8, 'Somalia': 3038, 'Yemen': 1446, 'Bahrain': 32, 'Myanmar': 85, 'Burundi': 147, 'Iraq': 10999, 'Egypt': 1499, 'Burkina Faso': 98, 'India': 1157, 'Algeria': 31, 'United States': 1027, 'Philippines': 1148, 'Greece': 7, 'Mali': 657, 'Libya': 316, 'Central African Republic': 569, 'Nigeria': 2300, 'Lebanon': 66, 'Mexico': 29, 'Cameroon': 448, 'Ethiopia': 80, 'Kyrgyzstan': 0, 'Serbia': 1, 'Sweden': 37, 'Thailand': 342, 'Iran': 106, 'France': 35, 'United Kingdom': 343, 'West Bank and Gaza Strip': 125, 'Ukraine': 104, 'Paraguay': 5, 'Colombia': 188, 'Malaysia': 6, 'Russia': 175, 'Kosovo': 4, 'South Africa': 28, 'Chile': 2, 'Kenya': 204, 'Israel': 18, 'Saudi Arabia': 100, 'China': 92, 'Nepal': 97, 'Ecuador': 0, 'Niger': 210, 'Venezuela': 37, 'South Sudan': 836, 'Canada': 31, 'Bangladesh': 97, 'Tajikistan': 1, 'Angola': 416, 'Ireland': 0, 'Peru': 12, 'Dominican Republic': 3, 'Poland': 0, 'Jordan': 5, 'Azerbaijan': 7, 'Mozambique': 33, 'Indonesia': 47, 'Germany': 11, 'Brazil': 0, 'Macedonia': 0, 'Tunisia': 10, 'Uganda': 9, 'Chad': 2, 'Finland': 12, 'Australia': 25, 'Norway': 0, 'Vietnam': 0, 'Tanzania': 10, 'Sierra Leone': 0, 'Sri Lanka': 4, 'Maldives': 1, 'Belgium': 4, 'Rwanda': 10, 'Honduras': 2, 'Czech Republic': 0, 'Malta': 1, 'Gabon': 2, 'Laos': 1, 'Djibouti': 0, 'Austria': 2, 'Zambia': 0, 'Argentina': 0, 'Papua New Guinea': 3, 'Zimbabwe': 1, 'Ivory Coast': 5, 'Spain': 132, 'Taiwan': 1, 'Jamaica': 0, 'Albania': 0, 'Liberia': 0, 'Georgia': 5, 'Malawi': 0, 'Netherlands': 0, 'Latvia': 0}\n"
     ]
    }
   ],
   "source": [
    "## Open and read data file as specified in the question\n",
    "## Print the required output in given format\n",
    "import csv\n",
    "with open('year2017.csv') as dict:\n",
    "    dictdata = csv.DictReader(dict,skipinitialspace = True)\n",
    "    list = list(dictdata)\n",
    "    \n",
    "    dictionary = {}\n",
    "    for l in list:\n",
    "        \n",
    "        key = l['Country']\n",
    "        value = l['casualities']\n",
    "        if(value!=''):\n",
    "            value=int(float(value))\n",
    "        else:\n",
    "            value = 0\n",
    "        if key in dictionary:\n",
    "            \n",
    "            dictionary[key] += value\n",
    "        else:\n",
    "            dictionary[key] = value\n",
    "    print(dictionary)"
   ]
  },
  {
   "cell_type": "code",
   "execution_count": 1,
   "metadata": {},
   "outputs": [
    {
     "name": "stdout",
     "output_type": "stream",
     "text": [
      "Afghanistan 6092\n",
      "Sudan 82\n",
      "Democratic Republic of the Congo 596\n",
      "Turkey 222\n",
      "Syria 2026\n",
      "Pakistan 1076\n",
      "Italy 0\n",
      "Somalia 1912\n",
      "Yemen 762\n",
      "Bahrain 6\n",
      "Myanmar 218\n",
      "Burundi 20\n",
      "Iraq 6476\n",
      "Egypt 877\n",
      "Burkina Faso 53\n",
      "India 465\n",
      "Algeria 12\n",
      "United States 95\n",
      "Philippines 496\n",
      "Greece 0\n",
      "Mali 361\n",
      "Libya 289\n",
      "Central African Republic 601\n",
      "Nigeria 1805\n",
      "Lebanon 17\n",
      "Mexico 23\n",
      "Cameroon 228\n",
      "Ethiopia 67\n",
      "Kyrgyzstan 0\n",
      "Serbia 0\n",
      "Sweden 5\n",
      "Thailand 72\n",
      "Iran 39\n",
      "France 7\n",
      "United Kingdom 42\n",
      "West Bank and Gaza Strip 50\n",
      "Ukraine 40\n",
      "Paraguay 4\n",
      "Colombia 84\n",
      "Malaysia 4\n",
      "Russia 61\n",
      "Kosovo 0\n",
      "South Africa 21\n",
      "Chile 0\n",
      "Kenya 126\n",
      "Israel 3\n",
      "Saudi Arabia 31\n",
      "China 16\n",
      "Nepal 4\n",
      "Ecuador 0\n",
      "Niger 148\n",
      "Venezuela 5\n",
      "South Sudan 581\n",
      "Canada 6\n",
      "Bangladesh 25\n",
      "Tajikistan 1\n",
      "Angola 7\n",
      "Ireland 0\n",
      "Peru 8\n",
      "Dominican Republic 2\n",
      "Poland 0\n",
      "Jordan 4\n",
      "Azerbaijan 5\n",
      "Mozambique 22\n",
      "Indonesia 20\n",
      "Germany 1\n",
      "Brazil 0\n",
      "Macedonia 0\n",
      "Tunisia 5\n",
      "Uganda 7\n",
      "Chad 62\n",
      "Finland 2\n",
      "Australia 4\n",
      "Norway 0\n",
      "Vietnam 0\n",
      "Tanzania 8\n",
      "Sierra Leone 0\n",
      "Sri Lanka 1\n",
      "Maldives 1\n",
      "Belgium 2\n",
      "Rwanda 2\n",
      "Honduras 2\n",
      "Czech Republic 0\n",
      "Malta 1\n",
      "Gabon 0\n",
      "Laos 1\n",
      "Djibouti 0\n",
      "Austria 2\n",
      "Zambia 0\n",
      "Argentina 0\n",
      "Papua New Guinea 0\n",
      "Zimbabwe 0\n",
      "Ivory Coast 3\n",
      "Spain 21\n",
      "Taiwan 0\n",
      "Jamaica 0\n",
      "Albania 0\n",
      "Liberia 0\n",
      "Georgia 0\n",
      "Malawi 0\n",
      "Netherlands 0\n",
      "Latvia 0\n"
     ]
    }
   ],
   "source": [
    "## Open and read data file as specified in the question\n",
    "## Print the required output in given format\n",
    "import csv\n",
    "with open(\"year2017.csv\") as file_obj:\n",
    "    file_data=csv.DictReader(file_obj,skipinitialspace=True)\n",
    "    file_list=list(file_data)\n",
    "\n",
    "d={}\n",
    "for row in file_list:\n",
    "    key=row[\"Country\"]\n",
    "    val=row[\"Killed\"]\n",
    "    if val!=\"\":\n",
    "        val=int(float(val))\n",
    "    else:\n",
    "        val=0\n",
    "    if key in d:\n",
    "        d[key]+=val\n",
    "    else:\n",
    "        d[key]=val\n",
    "for i in d:\n",
    "    print(i,d[i])"
   ]
  },
  {
   "cell_type": "code",
   "execution_count": null,
   "metadata": {},
   "outputs": [],
   "source": []
  }
 ],
 "metadata": {
  "kernelspec": {
   "display_name": "Python 3.7.3 64-bit ('base': conda)",
   "language": "python",
   "name": "python37364bitbaseconda70730c76f1ef4609a15a815f27ca5bf9"
  },
  "language_info": {
   "codemirror_mode": {
    "name": "ipython",
    "version": 3
   },
   "file_extension": ".py",
   "mimetype": "text/x-python",
   "name": "python",
   "nbconvert_exporter": "python",
   "pygments_lexer": "ipython3",
   "version": "3.7.3"
  }
 },
 "nbformat": 4,
 "nbformat_minor": 2
}
