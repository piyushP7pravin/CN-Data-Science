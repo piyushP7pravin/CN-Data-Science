{
 "cells": [
  {
   "cell_type": "markdown",
   "metadata": {},
   "source": [
    "# github create repo"
   ]
  },
  {
   "cell_type": "code",
   "execution_count": null,
   "metadata": {},
   "outputs": [],
   "source": [
    "# https://developer.github.com/v3/repos"
   ]
  },
  {
   "cell_type": "code",
   "execution_count": null,
   "metadata": {},
   "outputs": [],
   "source": [
    "#Client ID  :  #############################\n",
    "#Client Secret  :  #############################"
   ]
  },
  {
   "cell_type": "code",
   "execution_count": null,
   "metadata": {},
   "outputs": [],
   "source": [
    "import requests\n",
    "import json"
   ]
  },
  {
   "cell_type": "code",
   "execution_count": null,
   "metadata": {},
   "outputs": [],
   "source": [
    "data = {\"client_id\":\"#############################\", \n",
    "        \"redirect_uri\":\"https://data-science.auth0.com/login/callback\",\n",
    "        \"state\":\"random_123\",\n",
    "        \"scope\":\"public_repo\"}\n",
    "response = requests.get(\"https://github.com/login/oauth/authorize\",params = data)\n",
    "print(response.url)"
   ]
  },
  {
   "cell_type": "code",
   "execution_count": null,
   "metadata": {},
   "outputs": [],
   "source": [
    "# code=#############################"
   ]
  },
  {
   "cell_type": "code",
   "execution_count": null,
   "metadata": {},
   "outputs": [],
   "source": [
    "data = {\"client_id\":\"#############################\",\n",
    "        \"client_secret\":\"#############################\",\n",
    "        \"code\":\"#############################\",\n",
    "        \"redirect_uri\":\"https://data-science.auth0.com/login/callback\",\n",
    "        \"state\":\"random_123\"\n",
    "        }\n",
    "r = requests.post(\"https://github.com/login/oauth/access_token\", data = data )\n",
    "                  \n",
    "print(r.text)"
   ]
  },
  {
   "cell_type": "code",
   "execution_count": null,
   "metadata": {},
   "outputs": [],
   "source": [
    "h={\"Authorization\": \"token #############################\", \"Accept\":\"application/vnd.github.baptiste-preview+json\" }\n",
    "data = {\"name\":\"DataScience API\",\n",
    "        \"description\":\"created via api call\"\n",
    "        }\n",
    "r = requests.post(\"https://api.github.com/user/repos\", headers=h, data=json.dumps(data))\n",
    "\n",
    "print(r.status_code)"
   ]
  },
  {
   "cell_type": "code",
   "execution_count": null,
   "metadata": {},
   "outputs": [],
   "source": [
    "h={\"Authorization\": \"token #############################\", \"Accept\":\"application/vnd.github.baptiste-preview+json\" }\n",
    "data = {\"name\":\"DataScience API 3\",\n",
    "        \"description\":\"created via api call\"\n",
    "        }\n",
    "r = requests.post(\"https://api.github.com/user/repos\", headers=h, data=json.dumps(data))\n",
    "\n",
    "print(r.status_code)\n"
   ]
  }
 ],
 "metadata": {
  "kernelspec": {
   "display_name": "Python 3",
   "language": "python",
   "name": "python3"
  },
  "language_info": {
   "codemirror_mode": {
    "name": "ipython",
    "version": 3
   },
   "file_extension": ".py",
   "mimetype": "text/x-python",
   "name": "python",
   "nbconvert_exporter": "python",
   "pygments_lexer": "ipython3",
   "version": "3.7.3"
  }
 },
 "nbformat": 4,
 "nbformat_minor": 2
}
