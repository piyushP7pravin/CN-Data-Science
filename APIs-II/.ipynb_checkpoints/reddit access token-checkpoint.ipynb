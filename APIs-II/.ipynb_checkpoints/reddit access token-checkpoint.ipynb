{
 "cells": [
  {
   "cell_type": "code",
   "execution_count": null,
   "metadata": {},
   "outputs": [],
   "source": [
    "# client id : #############################\n",
    "# client secret : #############################"
   ]
  },
  {
   "cell_type": "code",
   "execution_count": 16,
   "metadata": {},
   "outputs": [],
   "source": [
    "import requests\n",
    "import json\n",
    "import pandas as pd"
   ]
  },
  {
   "cell_type": "code",
   "execution_count": null,
   "metadata": {},
   "outputs": [],
   "source": [
    "data = {\"client_id\":\"#############################\", \n",
    "        \"response_type\":\"code\",\n",
    "        \"state\":\"random_123\",\n",
    "        \"redirect_uri\":\"https://www.google.com/\",\n",
    "        \"scope\":\"identity\"}\n",
    "response = requests.get(\"https://www.reddit.com/api/v1/authorize\",params = data)\n",
    "print(response.url)"
   ]
  },
  {
   "cell_type": "code",
   "execution_count": null,
   "metadata": {},
   "outputs": [],
   "source": [
    "# code=#############################"
   ]
  },
  {
   "cell_type": "code",
   "execution_count": null,
   "metadata": {},
   "outputs": [],
   "source": [
    "data = {\"grant_type\":\"authorization_code\", \n",
    "        \"code\":\"#############################\", \n",
    "        \"redirect_uri\":\"https://www.google.com/\"}\n",
    "r = requests.post(\"https://www.reddit.com/api/v1/access_token\", data = data ,\n",
    "                  auth=(\"#############################\",\"#############################\"),\n",
    "                  headers = {\"User-Agent\":\"## USERNAME ##\"})\n",
    "print(r.text)"
   ]
  },
  {
   "cell_type": "code",
   "execution_count": 23,
   "metadata": {},
   "outputs": [
    {
     "data": {
      "text/html": [
       "<div>\n",
       "<style scoped>\n",
       "    .dataframe tbody tr th:only-of-type {\n",
       "        vertical-align: middle;\n",
       "    }\n",
       "\n",
       "    .dataframe tbody tr th {\n",
       "        vertical-align: top;\n",
       "    }\n",
       "\n",
       "    .dataframe thead th {\n",
       "        text-align: right;\n",
       "    }\n",
       "</style>\n",
       "<table border=\"1\" class=\"dataframe\">\n",
       "  <thead>\n",
       "    <tr style=\"text-align: right;\">\n",
       "      <th></th>\n",
       "      <th>Title</th>\n",
       "      <th>No. of Comments</th>\n",
       "      <th>Score</th>\n",
       "      <th>Author</th>\n",
       "    </tr>\n",
       "  </thead>\n",
       "  <tbody>\n",
       "    <tr>\n",
       "      <th>0</th>\n",
       "      <td>My rescue cat allows me to help him groom</td>\n",
       "      <td>534</td>\n",
       "      <td>48574</td>\n",
       "      <td>t2_a1ekf</td>\n",
       "    </tr>\n",
       "  </tbody>\n",
       "</table>\n",
       "</div>"
      ],
      "text/plain": [
       "                                       Title  No. of Comments  Score    Author\n",
       "0  My rescue cat allows me to help him groom              534  48574  t2_a1ekf"
      ]
     },
     "execution_count": 23,
     "metadata": {},
     "output_type": "execute_result"
    }
   ],
   "source": [
    "h={\"User-Agent\":\"## USERNAME ##\",\"Authorization\": \"bearer #############################\" }\n",
    "\n",
    "r_hot = requests.get(\"https://oauth.reddit.com/hot\", headers=h)\n",
    "py_data = r_hot.json()\n",
    "posts = py_data[\"data\"][\"children\"]\n",
    "\n",
    "\n",
    "posts_array = []\n",
    "for i in posts :\n",
    "    single_post = []\n",
    "    single_post.append(i[\"data\"][\"title\"])\n",
    "    single_post.append(i[\"data\"][\"num_comments\"])\n",
    "    single_post.append(i[\"data\"][\"ups\"])\n",
    "    single_post.append(i[\"data\"][\"author_fullname\"])\n",
    "    posts_array.append(single_post)\n",
    "result = pd.DataFrame(posts_array, columns = [\"Title\",\"No. of Comments\",\"Score\",\"Author\"])\n",
    "result.head(1)"
   ]
  },
  {
   "cell_type": "code",
   "execution_count": 32,
   "metadata": {},
   "outputs": [
    {
     "name": "stdout",
     "output_type": "stream",
     "text": [
      "u_p7dummy\n"
     ]
    }
   ],
   "source": [
    "h={\"User-Agent\":\"## USERNAME ##\",\"Authorization\": \"bearer #############################\"\" }\n",
    "\n",
    "d_name = requests.get(\"https://oauth.reddit.com/api/v1/me\", headers=h)\n",
    "\n",
    "py_data = d_name.json()\n",
    "print(py_data[\"subreddit\"][\"display_name\"])"
   ]
  },
  {
   "cell_type": "code",
   "execution_count": null,
   "metadata": {},
   "outputs": [],
   "source": []
  }
 ],
 "metadata": {
  "kernelspec": {
   "display_name": "Python 3",
   "language": "python",
   "name": "python3"
  },
  "language_info": {
   "codemirror_mode": {
    "name": "ipython",
    "version": 3
   },
   "file_extension": ".py",
   "mimetype": "text/x-python",
   "name": "python",
   "nbconvert_exporter": "python",
   "pygments_lexer": "ipython3",
   "version": "3.7.3"
  }
 },
 "nbformat": 4,
 "nbformat_minor": 2
}
