{
 "cells": [
  {
   "cell_type": "code",
   "execution_count": 2,
   "metadata": {},
   "outputs": [],
   "source": [
    "import requests\n",
    "from bs4 import BeautifulSoup\n",
    "import pandas as pd\n",
    "import re"
   ]
  },
  {
   "cell_type": "markdown",
   "metadata": {},
   "source": [
    "# Print the data of first 3 movies"
   ]
  },
  {
   "cell_type": "code",
   "execution_count": 24,
   "metadata": {},
   "outputs": [
    {
     "name": "stdout",
     "output_type": "stream",
     "text": [
      "Avengers: Infinity War ; Action, Adventure, Sci-Fi\n",
      "Black Panther ; Action, Adventure, Sci-Fi\n",
      "Deadpool 2 ; Action, Adventure, Comedy\n"
     ]
    }
   ],
   "source": [
    "response = requests.get(\"https://www.imdb.com/search/title/?release_date=2018&sort=num_votes,desc&page=1&ref_=adv_nxt\")\n",
    "html_data = response.text\n",
    "data = BeautifulSoup(html_data,\"html.parser\")\n",
    "\n",
    "title_data = data.find_all(class_=\"lister-item-header\")\n",
    "title =[]\n",
    "for i in range(3):\n",
    "    title.append(title_data[i].a.string)\n",
    "\n",
    "genre_data = data.find_all(class_=\"genre\")\n",
    "genre=[]\n",
    "for i in range(3):\n",
    "    genre.append(genre_data[i].string.strip())\n",
    "\n",
    "for i in range(3):\n",
    "    print(title[i],\";\",genre[i])"
   ]
  },
  {
   "cell_type": "markdown",
   "metadata": {},
   "source": [
    "# titles with most votes"
   ]
  },
  {
   "cell_type": "code",
   "execution_count": 137,
   "metadata": {},
   "outputs": [
    {
     "name": "stdout",
     "output_type": "stream",
     "text": [
      "Inception\n",
      "Game of Thrones\n",
      "The Dark Knight Rises\n",
      "The Wolf of Wall Street\n",
      "Interstellar\n"
     ]
    }
   ],
   "source": [
    "year=['2010','2011','2012','2013','2014']\n",
    "for i in year:\n",
    "    response=requests.get(\"https://www.imdb.com/search/title?release_date=\"+ str(i) +\"&sort=num_votes,desc&page=1&ref_=adv_nxt\")\n",
    "    html_data = response.text\n",
    "    data = BeautifulSoup(html_data,\"html.parser\")\n",
    "    print(data.find(class_=\"lister-item-header\").a.string)"
   ]
  },
  {
   "cell_type": "markdown",
   "metadata": {},
   "source": [
    "# title with maximum duration"
   ]
  },
  {
   "cell_type": "code",
   "execution_count": 40,
   "metadata": {},
   "outputs": [
    {
     "name": "stdout",
     "output_type": "stream",
     "text": [
      "Sharp Objects 421\n"
     ]
    }
   ],
   "source": [
    "\n",
    "\n",
    "base_url = \"https://www.imdb.com\"\n",
    "current_page = \"https://www.imdb.com/search/title/?release_date=2018&sort=num_votes,desc&page=1&ref_=adv_nxt\"\n",
    "dic = {}\n",
    "page = 1\n",
    "while page<=5:\n",
    "    response = requests.get(current_page)\n",
    "    html_data = response.text\n",
    "    data = BeautifulSoup(html_data,\"html.parser\")\n",
    "    title_data = data.find_all(class_=\"lister-item-header\")\n",
    "    runtime = data.find_all(class_=\"runtime\")\n",
    "    for i in range(len(title_data)):\n",
    "        dic[title_data[i].a.string] = int(re.search('\\d+', runtime[i].string).group())\n",
    "        \n",
    "    next_page = base_url + data.find(class_=\"lister-page-next next-page\")[\"href\"]\n",
    "    current_page = next_page\n",
    "    page+=1\n",
    "max_duration = max(dic.values())\n",
    "\n",
    "for key, value in dic.items(): \n",
    "    if max_duration == value: \n",
    "        print(key,value)\n",
    "        break\n",
    "        "
   ]
  },
  {
   "cell_type": "markdown",
   "metadata": {},
   "source": [
    "# Applications of AI"
   ]
  },
  {
   "cell_type": "code",
   "execution_count": 58,
   "metadata": {},
   "outputs": [
    {
     "name": "stdout",
     "output_type": "stream",
     "text": [
      "Healthcare\n",
      "Automotive\n",
      "Finance and economics\n",
      "Cybersecurity\n",
      "Government\n",
      "Law-related professions\n",
      "Video games\n",
      "Military\n",
      "Hospitality\n",
      "Audit\n",
      "Advertising\n",
      "Art\n"
     ]
    }
   ],
   "source": [
    "response = requests.get(\"https://en.wikipedia.org/wiki/Artificial_intelligence\")\n",
    "html_data = response.text\n",
    "data = BeautifulSoup(html_data,\"html.parser\")\n",
    "app = data.find(class_=\"toclevel-1 tocsection-35\").find_all(class_=\"toctext\")\n",
    "for i in range(1,len(app)):\n",
    "    print(app[i].string)"
   ]
  },
  {
   "cell_type": "markdown",
   "metadata": {},
   "source": [
    "# Image with maximum area"
   ]
  },
  {
   "cell_type": "code",
   "execution_count": 73,
   "metadata": {},
   "outputs": [
    {
     "name": "stdout",
     "output_type": "stream",
     "text": [
      "//upload.wikimedia.org/wikipedia/commons/6/69/EM_Clustering_of_Old_Faithful_data.gif\n"
     ]
    }
   ],
   "source": [
    "response = requests.get(\"https://en.wikipedia.org/wiki/Artificial_intelligence\")\n",
    "html_data = response.text\n",
    "data = BeautifulSoup(html_data,\"html.parser\")\n",
    "dic={}\n",
    "for i in data.find_all(class_=\"image\"):\n",
    "    dic[i.img[\"src\"]] = int(i.img[\"height\"])*int(i.img[\"width\"])\n",
    "                                       \n",
    "max_duration = max(dic.values())\n",
    "\n",
    "for key, value in dic.items(): \n",
    "    if max_duration == value: \n",
    "        print(key)\n",
    "        break"
   ]
  },
  {
   "cell_type": "markdown",
   "metadata": {},
   "source": [
    "# Quotes with tag humor"
   ]
  },
  {
   "cell_type": "code",
   "execution_count": 100,
   "metadata": {},
   "outputs": [
    {
     "name": "stdout",
     "output_type": "stream",
     "text": [
      "“The person, be it gentleman or lady, who has not pleasure in a good novel, must be intolerably stupid.”\n",
      "“A day without sunshine is like, you know, night.”\n",
      "“Anyone who thinks sitting in church can make you a Christian must also think that sitting in a garage can make you a car.”\n",
      "“Beauty is in the eye of the beholder and it may be necessary from time to time to give a stupid or misinformed beholder a black eye.”\n",
      "“All you need is love. But a little chocolate now and then doesn't hurt.”\n",
      "“Remember, we're madly in love, so it's all right to kiss me anytime you feel like it.”\n",
      "“Some people never go crazy. What truly horrible lives they must lead.”\n",
      "“The trouble with having an open mind, of course, is that people will insist on coming along and trying to put things in it.”\n",
      "“Think left and think right and think low and think high. Oh, the thinks you can think up if only you try!”\n",
      "“The reason I talk to myself is because I’m the only one whose answers I accept.”\n",
      "“I am free of all prejudice. I hate everyone equally. ”\n",
      "“A lady's imagination is very rapid; it jumps from admiration to love, from love to matrimony in a moment.”\n"
     ]
    }
   ],
   "source": [
    "base_url = \"http://quotes.toscrape.com\"\n",
    "current_page = \"http://quotes.toscrape.com\"\n",
    "\n",
    "response = requests.get(current_page)\n",
    "while response.status_code==200:\n",
    "    html_data = response.text\n",
    "    data = BeautifulSoup(html_data,\"html.parser\")\n",
    "    for i in data.find_all(class_=\"quote\"):\n",
    "        for j in i.find_all(class_=\"tag\"):\n",
    "            if j.string == \"humor\":\n",
    "                print(i.find(class_=\"text\").string)\n",
    "                break\n",
    "    if data.find(class_=\"next\") is None : \n",
    "        break\n",
    "    next_page = base_url + data.find(class_=\"next\").a[\"href\"]\n",
    "    \n",
    "    response = requests.get(next_page)\n",
    "    \n",
    "    \n",
    "        \n",
    "    \n",
    "    "
   ]
  },
  {
   "cell_type": "markdown",
   "metadata": {},
   "source": [
    "# Print all authors"
   ]
  },
  {
   "cell_type": "code",
   "execution_count": 111,
   "metadata": {},
   "outputs": [
    {
     "name": "stdout",
     "output_type": "stream",
     "text": [
      "Albert Einstein\n",
      "Alexandre Dumas fils\n",
      "Alfred Tennyson\n",
      "Allen Saunders\n",
      "André Gide\n",
      "Ayn Rand\n",
      "Bob Marley\n",
      "C.S. Lewis\n",
      "Charles Bukowski\n",
      "Charles M. Schulz\n",
      "Douglas Adams\n",
      "Dr. Seuss\n",
      "E.E. Cummings\n",
      "Eleanor Roosevelt\n",
      "Elie Wiesel\n",
      "Ernest Hemingway\n",
      "Friedrich Nietzsche\n",
      "Garrison Keillor\n",
      "George Bernard Shaw\n",
      "George Carlin\n",
      "George Eliot\n",
      "George R.R. Martin\n",
      "Harper Lee\n",
      "Haruki Murakami\n",
      "Helen Keller\n",
      "J.D. Salinger\n",
      "J.K. Rowling\n",
      "J.M. Barrie\n",
      "J.R.R. Tolkien\n",
      "James Baldwin\n",
      "Jane Austen\n",
      "Jim Henson\n",
      "Jimi Hendrix\n",
      "John Lennon\n",
      "Jorge Luis Borges\n",
      "Khaled Hosseini\n",
      "Madeleine L'Engle\n",
      "Marilyn Monroe\n",
      "Mark Twain\n",
      "Martin Luther King Jr.\n",
      "Mother Teresa\n",
      "Pablo Neruda\n",
      "Ralph Waldo Emerson\n",
      "Stephenie Meyer\n",
      "Steve Martin\n",
      "Suzanne Collins\n",
      "Terry Pratchett\n",
      "Thomas A. Edison\n",
      "W.C. Fields\n",
      "William Nicholson\n"
     ]
    }
   ],
   "source": [
    "base_url = \"http://quotes.toscrape.com\"\n",
    "current_page = \"http://quotes.toscrape.com\"\n",
    "\n",
    "auth = set()\n",
    "response = requests.get(current_page)\n",
    "while response.status_code==200:\n",
    "    html_data = response.text\n",
    "    data = BeautifulSoup(html_data,\"html.parser\")\n",
    "    for i in data.find_all(class_=\"author\"):\n",
    "        auth.add(i.string)\n",
    "    if data.find(class_=\"next\") is None : \n",
    "        break\n",
    "    next_page = base_url + data.find(class_=\"next\").a[\"href\"]\n",
    "    \n",
    "    response = requests.get(next_page)\n",
    "    \n",
    "auth_li = list(auth)\n",
    "auth_li.sort()\n",
    "for i in auth_li:\n",
    "    print(i)"
   ]
  },
  {
   "cell_type": "markdown",
   "metadata": {},
   "source": [
    "# Birth Date of authors"
   ]
  },
  {
   "cell_type": "code",
   "execution_count": 133,
   "metadata": {},
   "outputs": [
    {
     "name": "stdout",
     "output_type": "stream",
     "text": [
      "{'J.D. Salinger': 'January 01, 1919', 'J.K. Rowling': 'July 31, 1965', 'J.M. Barrie': 'May 09, 1860', 'J.R.R. Tolkien': 'January 03, 1892', 'James Baldwin': 'August 02, 1924', 'Jane Austen': 'December 16, 1775', 'Jim Henson': 'September 24, 1936', 'Jimi Hendrix': 'November 27, 1942', 'John Lennon': 'October 09, 1940', 'Jorge Luis Borges': 'August 24, 1899'}\n"
     ]
    }
   ],
   "source": [
    "base_url = \"http://quotes.toscrape.com\"\n",
    "current_page = \"http://quotes.toscrape.com\"\n",
    "\n",
    "auth_dict ={}\n",
    "\n",
    "response = requests.get(current_page)\n",
    "while response.status_code==200:\n",
    "    html_data = response.text\n",
    "    data = BeautifulSoup(html_data,\"html.parser\")\n",
    "\n",
    "    for i in data.find_all(class_=\"quote\"):\n",
    "        if i.small.string.startswith(\"J\"):\n",
    "            auth_response = requests.get(base_url+i.a[\"href\"])\n",
    "            auth_data = BeautifulSoup(auth_response.text,\"html.parser\")\n",
    "            auth_name = auth_data.h3.string\n",
    "            auth_dob = auth_data.find(class_=\"author-born-date\").string\n",
    "            if auth_name in auth_dict:\n",
    "                pass\n",
    "            else:\n",
    "                auth_dict[auth_name] = auth_dob\n",
    "    \n",
    "    if data.find(class_=\"next\") is None : \n",
    "        break\n",
    "    next_page = base_url + data.find(class_=\"next\").a[\"href\"]\n",
    "    response = requests.get(next_page)\n",
    "    \n",
    "sorted_auth ={}\n",
    "for i in sorted(auth_dict):\n",
    "    sorted_auth[i] = auth_dict[i]\n",
    "print(sorted_auth)\n",
    "    "
   ]
  },
  {
   "cell_type": "markdown",
   "metadata": {},
   "source": [
    "# Quotes by Albert Einstein"
   ]
  },
  {
   "cell_type": "code",
   "execution_count": 132,
   "metadata": {},
   "outputs": [
    {
     "name": "stdout",
     "output_type": "stream",
     "text": [
      "“The world as we have created it is a process of our thinking. It cannot be changed without changing our thinking.”\n",
      "“There are only two ways to live your life. One is as though nothing is a miracle. The other is as though everything is a miracle.”\n",
      "“Try not to become a man of success. Rather become a man of value.”\n",
      "“If you can't explain it to a six year old, you don't understand it yourself.”\n",
      "“If you want your children to be intelligent, read them fairy tales. If you want them to be more intelligent, read them more fairy tales.”\n",
      "“Logic will get you from A to Z; imagination will get you everywhere.”\n",
      "“Any fool can know. The point is to understand.”\n",
      "“Life is like riding a bicycle. To keep your balance, you must keep moving.”\n",
      "“If I were not a physicist, I would probably be a musician. I often think in music. I live my daydreams in music. I see my life in terms of music.”\n",
      "“Anyone who has never made a mistake has never tried anything new.”\n"
     ]
    }
   ],
   "source": [
    "base_url = \"http://quotes.toscrape.com\"\n",
    "current_page = \"http://quotes.toscrape.com\"\n",
    "\n",
    "auth_dict ={}\n",
    "\n",
    "response = requests.get(current_page)\n",
    "while response.status_code==200:\n",
    "    html_data = response.text\n",
    "    data = BeautifulSoup(html_data,\"html.parser\")\n",
    "\n",
    "    for i in data.find_all(class_=\"quote\"):\n",
    "        if i.small.string == \"Albert Einstein\":\n",
    "            print(i.find(class_=\"text\").string)\n",
    "    \n",
    "    if data.find(class_=\"next\") is None : \n",
    "        break\n",
    "    next_page = base_url + data.find(class_=\"next\").a[\"href\"]\n",
    "    response = requests.get(next_page)\n",
    "\n",
    "    "
   ]
  },
  {
   "cell_type": "code",
   "execution_count": null,
   "metadata": {},
   "outputs": [],
   "source": []
  },
  {
   "cell_type": "code",
   "execution_count": null,
   "metadata": {},
   "outputs": [],
   "source": []
  }
 ],
 "metadata": {
  "kernelspec": {
   "display_name": "Python 3",
   "language": "python",
   "name": "python3"
  },
  "language_info": {
   "codemirror_mode": {
    "name": "ipython",
    "version": 3
   },
   "file_extension": ".py",
   "mimetype": "text/x-python",
   "name": "python",
   "nbconvert_exporter": "python",
   "pygments_lexer": "ipython3",
   "version": "3.7.3"
  }
 },
 "nbformat": 4,
 "nbformat_minor": 2
}
