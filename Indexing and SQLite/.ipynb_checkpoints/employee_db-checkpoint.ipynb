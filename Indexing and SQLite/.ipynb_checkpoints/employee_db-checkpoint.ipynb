{
 "cells": [
  {
   "cell_type": "code",
   "execution_count": 5,
   "metadata": {},
   "outputs": [],
   "source": [
    "import sqlite3\n",
    "db=sqlite3.connect(\"Employee.sqlite\")\n",
    "curr=db.cursor()\n",
    "curr.execute(\"create table Employee_Detail(employee_id int primary key,name varchar(100),age int,department varchar(100),salary int)\")\n",
    "curr.execute(\"insert into Employee_Detail values(100,'Rishav',25,'Marketing',50000)\")\n",
    "curr.execute(\"insert into Employee_Detail values(101,'Abhishek',26,'Operations',60000)\")\n",
    "curr.execute(\"insert into Employee_Detail values(102,'Aman',24,'Human Resources',75000)\")\n",
    "db.commit()\n",
    "db.close()"
   ]
  },
  {
   "cell_type": "code",
   "execution_count": 7,
   "metadata": {},
   "outputs": [],
   "source": [
    "db=sqlite3.connect(\"Employee.sqlite\")\n",
    "curr=db.cursor()\n",
    "curr.execute(\"delete from Employee_detail where employee_id=101\")\n",
    "db.commit()\n",
    "db.close()"
   ]
  },
  {
   "cell_type": "code",
   "execution_count": 9,
   "metadata": {},
   "outputs": [],
   "source": [
    "db=sqlite3.connect(\"Employee.sqlite\")\n",
    "curr=db.cursor()\n",
    "values=(102,)\n",
    "curr.execute(\"delete from Employee_detail where employee_id=?\",values)\n",
    "db.commit()\n",
    "db.close()"
   ]
  },
  {
   "cell_type": "code",
   "execution_count": 11,
   "metadata": {},
   "outputs": [],
   "source": [
    "employee_id=[101,102,103,104,105,106,107,108,109,110,111,112]\n",
    "name=['Aadarsh','Aarti','Siddharth','Aman','Amit','Shivansh','Vaibhav','Himanshu','Raman','Kunal','Adhira','Tanya']\n",
    "age=[25,27,25,24,30,26,23,26,25,26,29,24]\n",
    "department=['Marketing','Operations','Finance','Human Resource','Marketing','IT','Finance','IT','Operations','Marketing','Human Resource','Marketing']\n",
    "salary=[50000,60000,85000,75000,50000,90000,85000,90000,60000,50000,75000,50000]\n",
    "\n",
    "\n",
    "db=sqlite3.connect(\"Employee.sqlite\")\n",
    "curr=db.cursor()\n",
    "values=[]\n",
    "for i in range(len(employee_id)):\n",
    "    values.append((employee_id[i],name[i],age[i],department[i],salary[i]))\n",
    "curr.executemany(\"insert into Employee_Detail values(?,?,?,?,?)\",values)\n",
    "db.commit()\n",
    "db.close()"
   ]
  },
  {
   "cell_type": "code",
   "execution_count": 13,
   "metadata": {},
   "outputs": [
    {
     "name": "stdout",
     "output_type": "stream",
     "text": [
      "103\n",
      "107\n"
     ]
    }
   ],
   "source": [
    "db=sqlite3.connect(\"Employee.sqlite\")\n",
    "curr=db.cursor()\n",
    "curr.execute(\"select employee_id from Employee_Detail where department=?\",(\"Finance\",))\n",
    "for row in curr:\n",
    "    print(*row)\n",
    "db.close()"
   ]
  },
  {
   "cell_type": "code",
   "execution_count": 23,
   "metadata": {},
   "outputs": [
    {
     "name": "stdout",
     "output_type": "stream",
     "text": [
      "Finance 2\n",
      "Human Resource 2\n",
      "IT 2\n",
      "Marketing 4\n",
      "Operations 2\n"
     ]
    }
   ],
   "source": [
    "db=sqlite3.connect(\"Employee.sqlite\")\n",
    "curr=db.cursor()\n",
    "curr.execute(\"select department,count(*) from Employee_Detail group by department\")\n",
    "for row in curr.fetchall():\n",
    "    print(*row)\n",
    "db.close()"
   ]
  },
  {
   "cell_type": "code",
   "execution_count": 22,
   "metadata": {},
   "outputs": [],
   "source": []
  }
 ],
 "metadata": {
  "kernelspec": {
   "display_name": "Python 3",
   "language": "python",
   "name": "python3"
  },
  "language_info": {
   "codemirror_mode": {
    "name": "ipython",
    "version": 3
   },
   "file_extension": ".py",
   "mimetype": "text/x-python",
   "name": "python",
   "nbconvert_exporter": "python",
   "pygments_lexer": "ipython3",
   "version": "3.7.3"
  }
 },
 "nbformat": 4,
 "nbformat_minor": 2
}
