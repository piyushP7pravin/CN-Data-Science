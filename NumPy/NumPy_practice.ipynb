{
 "cells": [
  {
   "cell_type": "code",
   "execution_count": 9,
   "metadata": {},
   "outputs": [
    {
     "data": {
      "text/plain": [
       "array([[-1586689808,         426],\n",
       "       [    7536756,     4456540],\n",
       "       [    4980801,     4390971],\n",
       "       [    6029370,     7471184],\n",
       "       [    6750319,     6357106]])"
      ]
     },
     "execution_count": 9,
     "metadata": {},
     "output_type": "execute_result"
    }
   ],
   "source": [
    "import numpy as np\n",
    "a=np.empty((5,2),dtype=int)\n",
    "a"
   ]
  },
  {
   "cell_type": "code",
   "execution_count": 15,
   "metadata": {},
   "outputs": [
    {
     "name": "stdout",
     "output_type": "stream",
     "text": [
      "0 0 0 0 1 0 0 0 0 0\n"
     ]
    }
   ],
   "source": [
    "a=np.zeros(10,dtype=int)\n",
    "a[4]=1\n",
    "print(*a)"
   ]
  },
  {
   "cell_type": "code",
   "execution_count": 16,
   "metadata": {},
   "outputs": [
    {
     "data": {
      "text/plain": [
       "(4,)"
      ]
     },
     "execution_count": 16,
     "metadata": {},
     "output_type": "execute_result"
    }
   ],
   "source": [
    "a = np.array([0, 1, 2, 3])\n",
    "a.shape"
   ]
  },
  {
   "cell_type": "code",
   "execution_count": 20,
   "metadata": {},
   "outputs": [
    {
     "data": {
      "text/plain": [
       "0.5532926236570869"
      ]
     },
     "execution_count": 20,
     "metadata": {},
     "output_type": "execute_result"
    }
   ],
   "source": [
    "np.random.rand()"
   ]
  },
  {
   "cell_type": "code",
   "execution_count": 37,
   "metadata": {},
   "outputs": [
    {
     "data": {
      "text/plain": [
       "array([[0, 8, 3, 6, 0],\n",
       "       [5, 9, 3, 5, 1],\n",
       "       [1, 6, 4, 6, 9],\n",
       "       [3, 1, 1, 5, 4]])"
      ]
     },
     "execution_count": 37,
     "metadata": {},
     "output_type": "execute_result"
    }
   ],
   "source": [
    "np.random.randint(0,10,size=(4,5))"
   ]
  },
  {
   "cell_type": "code",
   "execution_count": 44,
   "metadata": {},
   "outputs": [
    {
     "name": "stdout",
     "output_type": "stream",
     "text": [
      "[0.         0.55555556 1.11111111 1.66666667 2.22222222 2.77777778\n",
      " 3.33333333 3.88888889 4.44444444]\n",
      "0.56\n",
      "1.11\n",
      "1.67\n",
      "2.22\n",
      "2.78\n",
      "3.33\n",
      "3.89\n",
      "4.44\n"
     ]
    }
   ],
   "source": [
    "import numpy as np\n",
    "a=np.linspace(0,5,9,dtype=float,endpoint=False)\n",
    "print(a)\n",
    "for i in range(1,len(a)):\n",
    "    print(\"%0.2f\"%(a[i]))"
   ]
  },
  {
   "cell_type": "code",
   "execution_count": 57,
   "metadata": {},
   "outputs": [
    {
     "name": "stdout",
     "output_type": "stream",
     "text": [
      "11 12 13\n",
      "9 14 19\n",
      "11 12 13 14 15 16 17 18 19 20 \n",
      "7 8 12 13 "
     ]
    }
   ],
   "source": [
    "import numpy as np\n",
    "input_=np.arange(1,21,1)\n",
    "input_=input_.reshape(4,5)\n",
    "print(*input_[2,:3])\n",
    "print(*input_[1:4,3])\n",
    "b=input_[2:4,::]\n",
    "for i in b:\n",
    "    for j in i:\n",
    "        print(j,end=\" \")\n",
    "print()\n",
    "a= input_[1:3,1:3]\n",
    "for i in a:\n",
    "    print(*i,end=\" \")\n"
   ]
  },
  {
   "cell_type": "code",
   "execution_count": 11,
   "metadata": {},
   "outputs": [
    {
     "name": "stdout",
     "output_type": "stream",
     "text": [
      "0 1 4\n"
     ]
    }
   ],
   "source": [
    "import numpy as np\n",
    "a=np.array([1,2,0,0,4,0])\n",
    "ind=np.where(a!=0)\n",
    "for i in ind:\n",
    "    print(*i)"
   ]
  },
  {
   "cell_type": "code",
   "execution_count": 15,
   "metadata": {},
   "outputs": [
    {
     "name": "stdout",
     "output_type": "stream",
     "text": [
      "-1 2 -1 4 -1 6 -1 8 -1 10\n"
     ]
    }
   ],
   "source": [
    "import numpy as np\n",
    "a=np.array([1, 2, 3, 4, 5, 6, 7, 8, 9, 10])\n",
    "ind=np.where(a%2!=0)\n",
    "a[ind]=-1\n",
    "print(*a)"
   ]
  },
  {
   "cell_type": "code",
   "execution_count": 23,
   "metadata": {},
   "outputs": [
    {
     "name": "stdout",
     "output_type": "stream",
     "text": [
      "1\n",
      "2\n",
      "-3\n",
      "-4\n",
      "-5\n",
      "-6\n",
      "-7\n",
      "-8\n",
      "9\n",
      "10\n"
     ]
    }
   ],
   "source": [
    "import numpy as np\n",
    "a=np.array([1, 2, 3, 4, 5, 6, 7, 8, 9, 10])\n",
    "ind=np.where((a>=3) & (a<=8))\n",
    "a[ind]=-a[ind]\n",
    "for i in a:\n",
    "    print(i)"
   ]
  },
  {
   "cell_type": "code",
   "execution_count": 5,
   "metadata": {},
   "outputs": [
    {
     "name": "stdout",
     "output_type": "stream",
     "text": [
      "[[21 20 19 18 17]\n",
      " [16 15 14 13 12]\n",
      " [11 10  9  8  7]\n",
      " [ 6  5  4  3  2]]\n",
      "\n",
      "[[ 6  5  4  3  2]\n",
      " [11 10  9  8  7]\n",
      " [16 15 14 13 12]\n",
      " [21 20 19 18 17]]\n"
     ]
    }
   ],
   "source": [
    "import numpy as np\n",
    "a=np.array([[21,20,19,18,17],[16,15,14,13,12],[11,10,9,8,7],[6,5,4,3,2]])\n",
    "ind=a[:,1].argsort()\n",
    "print(a)\n",
    "a=a[ind]\n",
    "print()\n",
    "print(a)"
   ]
  },
  {
   "cell_type": "code",
   "execution_count": 17,
   "metadata": {},
   "outputs": [
    {
     "name": "stdout",
     "output_type": "stream",
     "text": [
      "[0. 0. 0. ... 0. 0. 1.]\n"
     ]
    }
   ],
   "source": [
    "import numpy as np\n",
    "import csv\n",
    "file_obj=open(\"terrorismData.csv\",encoding=\"utf-8\")\n",
    "file_data=csv.DictReader(file_obj,skipinitialspace=True)\n",
    "killed=[]\n",
    "country=[]\n",
    "for row in file_data:\n",
    "    killed.append(row[\"Killed\"])\n",
    "    country.append(row[\"Country\"])\n",
    "    \n",
    "np_killed=np.array(killed)\n",
    "np_killed[np_killed==\"\"]=\"0.0\"\n",
    "np_killed=np.array(np_killed, dtype=float)\n",
    "\n",
    "np_country = np.array(country)\n",
    "bool_arr = np_country==\"United States\"\n",
    "np_killed=np_killed[bool_arr]\n",
    "print(np_killed)\n"
   ]
  },
  {
   "cell_type": "code",
   "execution_count": 34,
   "metadata": {},
   "outputs": [
    {
     "name": "stdout",
     "output_type": "stream",
     "text": [
      "66330\n"
     ]
    }
   ],
   "source": [
    "import numpy as np\n",
    "import csv\n",
    "file_obj=open(\"terrorismData.csv\",encoding=\"utf-8\")\n",
    "file_data=csv.DictReader(file_obj,skipinitialspace=True)\n",
    "\n",
    "arr=[]\n",
    "for row in file_data:\n",
    "    arr.append(row[\"Day\"])\n",
    "np_arr=np.array(arr,dtype=int)\n",
    "ind=np.where((np_arr >= 10) & (np_arr <= 20))\n",
    "np_arr=np_arr[ind]\n",
    "print(np_arr.size)\n"
   ]
  },
  {
   "cell_type": "code",
   "execution_count": 49,
   "metadata": {},
   "outputs": [
    {
     "name": "stdout",
     "output_type": "stream",
     "text": [
      "22 Kargil District Separatists\n"
     ]
    }
   ],
   "source": [
    "## Open and read data file as specified in the question\n",
    "## Print the required output in given format\n",
    "import numpy as np\n",
    "import csv\n",
    "\n",
    "path= \"terrorismData.csv\"\n",
    "casualty=[]\n",
    "month=[]\n",
    "city=[]\n",
    "\n",
    "## Here we lter out the data\n",
    "\n",
    "with open(path, 'r',encoding='ISO-8859-1') as data:\n",
    "     reader = csv.DictReader(data)\n",
    "     for row in reader:\n",
    "         if row['State']=='Jammu and Kashmir' and row['Year']=='1999':\n",
    "             if row['Month']=='5' or row['Month']=='6' or row['Month']==7:\n",
    "                 city.append([row['City'],row['Group']])\n",
    "                 casualty.append([row['Killed'],row['Wounded']])\n",
    "                \n",
    "npcasualty=np.array(casualty)\n",
    "npcity=np.array(city)\n",
    "\n",
    "## Coverting the empty values present in Killed and wounded feature to Zero\n",
    "npcasualty[npcasualty=='']=0\n",
    "\n",
    "## Converting the string value to oat\n",
    "npcasualty=np.array(npcasualty,dtype=float)\n",
    "\n",
    "## Now Summing up the Killed and wounded feature to nd out the casualty\n",
    "npcasualty=np.sum(npcasualty,axis=1)\n",
    "index=np.argmax(npcasualty)\n",
    "print(int(npcasualty[index]),npcity[index][0],npcity[index][1])\n"
   ]
  },
  {
   "cell_type": "code",
   "execution_count": 50,
   "metadata": {},
   "outputs": [
    {
     "name": "stdout",
     "output_type": "stream",
     "text": [
      "5628\n"
     ]
    }
   ],
   "source": [
    "import numpy as np\n",
    "import csv\n",
    "path= \"terrorismData.csv\"\n",
    "killed=[]\n",
    "wounded=[]\n",
    "\n",
    "with open(path, 'r',encoding='ISO-8859-1') as file_obj:\n",
    "     file_data = csv.DictReader(file_obj,skipinitialspace=True)\n",
    "     for row in file_data:\n",
    "        if row[\"State\"]==\"Jharkhand\" or row[\"State\"]==\"Odisha\" or row[\"State\"]==\"Andhra Pradesh\" or row[\"State\"]==\"Chhattisgarh\":\n",
    "            killed.append(row[\"Killed\"])\n",
    "            wounded.append(row[\"Wounded\"])\n",
    "np_killed=np.array(killed)\n",
    "np_killed[np_killed==\"\"]=\"0\"\n",
    "np_killed=np.array(np_killed,dtype=float)\n",
    "np_wounded=np.array(wounded)\n",
    "np_wounded[np_wounded==\"\"]=\"0\"\n",
    "np_wounded=np.array(np_wounded,dtype=float)\n",
    "\n",
    "\n",
    "casualty=np_killed+np_wounded\n",
    "print(int(np.sum(casualty)))"
   ]
  }
 ],
 "metadata": {
  "kernelspec": {
   "display_name": "Python 3",
   "language": "python",
   "name": "python3"
  },
  "language_info": {
   "codemirror_mode": {
    "name": "ipython",
    "version": 3
   },
   "file_extension": ".py",
   "mimetype": "text/x-python",
   "name": "python",
   "nbconvert_exporter": "python",
   "pygments_lexer": "ipython3",
   "version": "3.7.3"
  }
 },
 "nbformat": 4,
 "nbformat_minor": 2
}
