{
 "cells": [
  {
   "cell_type": "markdown",
   "metadata": {},
   "source": [
    "# Content type"
   ]
  },
  {
   "cell_type": "code",
   "execution_count": null,
   "metadata": {},
   "outputs": [],
   "source": [
    "import requests\n",
    "r=requests.get(\"https://codingninjas.in/api/v3/events\")\n",
    "r_head=r.headers\n",
    "print(r_head[\"Content-Type\"])\n"
   ]
  },
  {
   "cell_type": "code",
   "execution_count": null,
   "metadata": {},
   "outputs": [],
   "source": [
    "#https://dog.ceo/dog-api/"
   ]
  },
  {
   "cell_type": "markdown",
   "metadata": {},
   "source": [
    "# Hound sub-breeds"
   ]
  },
  {
   "cell_type": "code",
   "execution_count": null,
   "metadata": {},
   "outputs": [],
   "source": [
    "import requests\n",
    "response=requests.get(\"https://dog.ceo/api/breeds/list/all\")\n",
    "python_data=response.json()\n",
    "for i in python_data[\"message\"][\"hound\"]:\n",
    "    print(i)"
   ]
  },
  {
   "cell_type": "markdown",
   "metadata": {},
   "source": [
    "# "
   ]
  },
  {
   "cell_type": "code",
   "execution_count": null,
   "metadata": {},
   "outputs": [],
   "source": [
    "import requests\n",
    "\n",
    "response = requests.get(\"https://swapi.co/api/planets/\")\n",
    "\n",
    "python_data = response.json()\n",
    "for i in python_data[\"results\"]:\n",
    "    print(i[\"name\"])"
   ]
  },
  {
   "cell_type": "code",
   "execution_count": null,
   "metadata": {},
   "outputs": [],
   "source": [
    "import requests\n",
    "response = requests.get(\"https://codingninjas.in/api/v3/courses\")\n",
    "python_data=response.json()\n",
    "\n",
    "for i in python_data[\"data\"][\"courses\"]:\n",
    "    print(i[\"name\"])\n"
   ]
  },
  {
   "cell_type": "code",
   "execution_count": null,
   "metadata": {},
   "outputs": [],
   "source": [
    "import requests\n",
    "response = requests.get(\"https://codingninjas.in/api/v3/events\")\n",
    "python_data=response.json()\n",
    "for i in python_data[\"data\"][\"past_registered_events\"]:\n",
    "    if \"Workshop\" in i[\"name\"]:\n",
    "        print(i[\"name\"])"
   ]
  },
  {
   "cell_type": "code",
   "execution_count": null,
   "metadata": {},
   "outputs": [],
   "source": [
    "import requests\n",
    "\n",
    "response = requests.get(\"https://swapi.co/api/planets/\",params={\"search\":})\n",
    "\n",
    "python_data = response.json()\n",
    "for i in python_data[\"results\"]:\n",
    "    if \"and\" in i[\"name\"]:\n",
    "        print(i[\"name\"])"
   ]
  },
  {
   "cell_type": "code",
   "execution_count": null,
   "metadata": {},
   "outputs": [],
   "source": [
    "import requests\n",
    "\n",
    "response = requests.get(\"https://api.openaq.org/v1/cities\",params={\"country\":\"BE\", \"limit\":5, \"order_by\":\"city\"})\n",
    "\n",
    "python_data = response.json()\n",
    "for i in python_data[\"results\"]:\n",
    "    print(i[\"city\"])"
   ]
  },
  {
   "cell_type": "code",
   "execution_count": null,
   "metadata": {},
   "outputs": [],
   "source": [
    "import requests\n",
    "\n",
    "response = requests.get(\"https://www.metaweather.com/api/location/search/\",params={\"query\":\"USA\"})\n",
    "\n",
    "python_data = response.json()\n",
    "for i in python_data:\n",
    "    print(i[\"woeid\"])\n",
    "print(response.url)"
   ]
  },
  {
   "cell_type": "code",
   "execution_count": 114,
   "metadata": {},
   "outputs": [
    {
     "name": "stdout",
     "output_type": "stream",
     "text": [
      "Mahatma Gandhi Jayanti\n"
     ]
    }
   ],
   "source": [
    "import requests\n",
    "import json\n",
    "response = requests.get(\"https://holidayapi.com/v1/holidays\",params={\"key\":\"*** REPLACE WITH YOUR API KEY ****\", \n",
    "                                                          \"country\":\"IND\",\n",
    "                                                         \"year\":2019,\"month\":10})\n",
    "python_data=response.json()\n",
    "for i in python_data[\"holidays\"]:\n",
    "    if i[\"date\"]==\"2019-10-02\":\n",
    "        print(i[\"name\"])\n"
   ]
  },
  {
   "cell_type": "code",
   "execution_count": 3,
   "metadata": {},
   "outputs": [
    {
     "name": "stdout",
     "output_type": "stream",
     "text": [
      "Trandosha\n",
      "Chandrila\n"
     ]
    }
   ],
   "source": [
    "import requests\n",
    "response = requests.get(\"https://swapi.co/api/planets/\",params={\"search\":\"and\"})\n",
    "python_data = response.json()\n",
    "for i in python_data[\"results\"]:\n",
    "    \n",
    "    print(i[\"name\"])"
   ]
  }
 ],
 "metadata": {
  "kernelspec": {
   "display_name": "Python 3",
   "language": "python",
   "name": "python3"
  },
  "language_info": {
   "codemirror_mode": {
    "name": "ipython",
    "version": 3
   },
   "file_extension": ".py",
   "mimetype": "text/x-python",
   "name": "python",
   "nbconvert_exporter": "python",
   "pygments_lexer": "ipython3",
   "version": "3.7.3"
  }
 },
 "nbformat": 4,
 "nbformat_minor": 2
}
