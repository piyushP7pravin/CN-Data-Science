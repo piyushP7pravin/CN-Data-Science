{
 "cells": [
  {
   "cell_type": "markdown",
   "metadata": {},
   "source": [
    "# github organisation repo"
   ]
  },
  {
   "cell_type": "code",
   "execution_count": 1,
   "metadata": {},
   "outputs": [],
   "source": [
    "import requests\n",
    "import json\n",
    "import pandas as pd"
   ]
  },
  {
   "cell_type": "code",
   "execution_count": null,
   "metadata": {},
   "outputs": [],
   "source": [
    "#Client ID  :  #######################\n",
    "#Client Secret  :  #######################"
   ]
  },
  {
   "cell_type": "code",
   "execution_count": null,
   "metadata": {},
   "outputs": [],
   "source": [
    "data = {\"client_id\":\"#######################\", \n",
    "        \"redirect_uri\":\"https://data-science.auth0.com/login/callback\",\n",
    "        \"state\":\"random_123\",\n",
    "        \"scope\":\"identity\"}\n",
    "response = requests.get(\"https://github.com/login/oauth/authorize\",params = data)\n",
    "print(response.url)"
   ]
  },
  {
   "cell_type": "code",
   "execution_count": null,
   "metadata": {},
   "outputs": [],
   "source": [
    "#code=#######################"
   ]
  },
  {
   "cell_type": "code",
   "execution_count": null,
   "metadata": {},
   "outputs": [],
   "source": [
    "data = {\"client_id\":\"#######################\",\n",
    "        \"client_secret\":\"#######################\",\n",
    "        \"code\":\"#######################\",\n",
    "        \"redirect_uri\":\"https://data-science.auth0.com/login/callback\",\n",
    "        \"state\":\"random_123\"\n",
    "        }\n",
    "r = requests.post(\"https://github.com/login/oauth/access_token\", data = data )\n",
    "                  \n",
    "print(r.text)"
   ]
  },
  {
   "cell_type": "code",
   "execution_count": 9,
   "metadata": {},
   "outputs": [
    {
     "name": "stdout",
     "output_type": "stream",
     "text": [
      "SmoothScrollJs 16 5\n",
      "RubyTutorial 14 9\n",
      "Python3Tutorial 5 3\n",
      "HTMLandCssNotes 12 20\n",
      "Beacathon 2 8\n",
      "JSNotes 5 6\n",
      "learnml 1 0\n",
      "RubyNotebook 2 5\n",
      "InterQues 58 96\n",
      "coderoom 3 3\n"
     ]
    }
   ],
   "source": [
    "h={\"Authorization\": \"token #######################\" }\n",
    "\n",
    "r = requests.get(\"https://api.github.com/orgs/CodingNinjasCodes/repos\", headers=h)\n",
    "py_data=r.json()\n",
    "\n",
    "for i in py_data:\n",
    "    if(i['fork'] == False):\n",
    "        print(i['name'],i['watchers_count'],i['forks_count'])"
   ]
  },
  {
   "cell_type": "markdown",
   "metadata": {},
   "source": [
    "# github organisation member\n"
   ]
  },
  {
   "cell_type": "code",
   "execution_count": 12,
   "metadata": {},
   "outputs": [
    {
     "name": "stdout",
     "output_type": "stream",
     "text": [
      "dakshkhetan\n",
      "ManishaKhattar\n",
      "namangupta01\n",
      "nidhiagarwal\n",
      "rohanraarora\n",
      "tushartuteja\n"
     ]
    }
   ],
   "source": [
    "h={\"Authorization\": \"token #######################\" }\n",
    "\n",
    "r = requests.get(\"https://api.github.com/orgs/CodingNinjasCodes/members\", headers=h)\n",
    "py_data=r.json()\n",
    "for i in py_data:\n",
    "    print(i[\"login\"])"
   ]
  },
  {
   "cell_type": "markdown",
   "metadata": {},
   "source": [
    "# github repo contributors"
   ]
  },
  {
   "cell_type": "code",
   "execution_count": 30,
   "metadata": {},
   "outputs": [
    {
     "name": "stdout",
     "output_type": "stream",
     "text": [
      "tushartuteja 5\n",
      "Rawal27 13\n",
      "Sherawat42 15\n"
     ]
    }
   ],
   "source": [
    "\n",
    "h={\"Authorization\": \"token #######################\" }\n",
    "\n",
    "r = requests.get(\"https://api.github.com/repos/CodingNinjasCodes/JSNotes/stats/contributors\", headers=h)\n",
    "py_data=r.json()\n",
    "for i in py_data:\n",
    "    print(i['author']['login'],i['total'])\n"
   ]
  },
  {
   "cell_type": "markdown",
   "metadata": {},
   "source": [
    "# Github repo health"
   ]
  },
  {
   "cell_type": "code",
   "execution_count": 22,
   "metadata": {},
   "outputs": [
    {
     "data": {
      "text/plain": [
       "33"
      ]
     },
     "execution_count": 22,
     "metadata": {},
     "output_type": "execute_result"
    }
   ],
   "source": [
    "h={\"Authorization\": \"token #######################\", \"Accept\":\"application/vnd.github.black-panther-preview+json\" }\n",
    "\n",
    "r = requests.get(\"https://api.github.com/repos/CodingNinjasCodes/SmoothScrollJs/community/profile\", headers=h)\n",
    "py_data=r.json()\n",
    "py_data[\"health_percentage\"]"
   ]
  },
  {
   "cell_type": "markdown",
   "metadata": {},
   "source": [
    "# github all repo"
   ]
  },
  {
   "cell_type": "code",
   "execution_count": 34,
   "metadata": {},
   "outputs": [
    {
     "name": "stdout",
     "output_type": "stream",
     "text": [
      "x-mario\n",
      "phimpme-android\n",
      "phimpme-drupal\n",
      "xmario_buildscript\n",
      "pslab-case\n",
      "meilix-systemlock\n",
      "fossasia10-drupal\n",
      "fossasia11-drupal\n",
      "blog.fossasia.org\n",
      "2010.fossasia.org\n",
      "2014.fossasia.org\n",
      "meilix\n",
      "phimpme-wordpress\n",
      "2015.fossasia.org\n",
      "badge-magic-android\n",
      "api.fossasia.net\n",
      "directory.api.fossasia.net\n",
      "common.api.fossasia.net\n",
      "cmap.api.fossasia.net\n",
      "feed.api.freifunk.net\n",
      "feed.api.fossasia.net\n",
      "fossasia-communities\n",
      "sg18.sciencehack.asia\n",
      "gci14.fossasia.org\n",
      "fossasia-nodemailer\n",
      "2011.fossasia.org\n",
      "2012.fossasia.org\n",
      "labs.fossasia.org\n",
      "fossasia.net\n",
      "foss.vn\n"
     ]
    }
   ],
   "source": [
    "h={\"Authorization\": \"token #######################\"}\n",
    "\n",
    "#for i in py_data:\n",
    "#    print(i[\"name\"])\n",
    "    \n",
    "r = requests.get(\"https://api.github.com/orgs/fossasia/repos\", headers=h, params={\"type\":\"all\"})\n",
    "py_data=r.json()\n",
    "for i in py_data:\n",
    "    print(i[\"name\"])"
   ]
  },
  {
   "cell_type": "code",
   "execution_count": 33,
   "metadata": {},
   "outputs": [
    {
     "name": "stdout",
     "output_type": "stream",
     "text": [
      "x-mario\n",
      "phimpme-android\n",
      "phimpme-drupal\n",
      "xmario_buildscript\n",
      "pslab-case\n",
      "meilix-systemlock\n",
      "fossasia10-drupal\n",
      "fossasia11-drupal\n",
      "blog.fossasia.org\n",
      "2010.fossasia.org\n",
      "2014.fossasia.org\n",
      "meilix\n",
      "phimpme-wordpress\n",
      "2015.fossasia.org\n",
      "badge-magic-android\n",
      "api.fossasia.net\n",
      "directory.api.fossasia.net\n",
      "common.api.fossasia.net\n",
      "cmap.api.fossasia.net\n",
      "feed.api.freifunk.net\n",
      "feed.api.fossasia.net\n",
      "fossasia-communities\n",
      "sg18.sciencehack.asia\n",
      "gci14.fossasia.org\n",
      "fossasia-nodemailer\n",
      "2011.fossasia.org\n",
      "2012.fossasia.org\n",
      "labs.fossasia.org\n",
      "fossasia.net\n",
      "foss.vn\n",
      "libregraphics.asia\n",
      "perspektive89.com\n",
      "susi_smart_box\n",
      "hotelxoai.com\n",
      "yaydoc-artwork\n",
      "fossasia-companion-android\n",
      "loklak_webclient\n",
      "circle-knitting\n",
      "open-event-attendee-android\n",
      "2018.fossasia.org\n",
      "open-event\n",
      "open-event-droidgen\n",
      "open-event-wsgen\n",
      "open-event-server\n",
      "knitweb\n",
      "knitpat\n",
      "knitlib\n",
      "pslab-expeyes\n",
      "timeline.api.fossasia.net\n",
      "2016.fossasia.org\n",
      "fossasia.org\n",
      "pslab.io\n",
      "wp.api.fossasia.net\n",
      "knitserver\n",
      "sciencehack.asia\n",
      "loklak_wok_android\n",
      "gci15.fossasia.org\n",
      "gci17.fossasia.org\n",
      "flappy-svg\n",
      "loklak-webtweets\n",
      "loklak_tweetheatmap\n",
      "unesco.sciencehack.asia\n",
      "neurolab-hardware\n",
      "loklak_movietweets\n",
      "loklak_heatmap\n",
      "fossasia-webfeeds\n",
      "fossasia.github.io\n",
      "jugaadfest.com\n",
      "open-event-scraper\n",
      "open-event-attendee-ios\n",
      "fossasia-artwork\n",
      "2017.fossasia.org\n",
      "engelsystem\n",
      "knittingpattern\n",
      "CommonsNet\n",
      "wp-tweets-widget\n",
      "wp-recent-tweet\n",
      "pslab-python\n",
      "pslab-desktop\n",
      "wp-easy-twitter-plugin\n",
      "wp-tweet-feed-plugin\n",
      "loklak_walls\n",
      "wp-accesspress-twitter-feed\n",
      "wp-rotatingtweets\n",
      "wp-twitter-feeds\n",
      "coc.fossasia.org\n",
      "2009.fossasia.org\n",
      "badgemagic.fossasia.org\n",
      "2020.fossasia.org\n",
      "wp-ai-twitter-feeds\n",
      "kniteditor\n",
      "badge-magic-ios\n",
      "wp-juiz-last-tweet-widget\n",
      "wp-twidget\n",
      "wp-dev-buddy\n",
      "loklak_tweetsearch_android\n",
      "susi.ai\n",
      "AYABInterface\n",
      "susi_slackbot\n",
      "sciencehack.in\n",
      "loklak_wp_plugins\n",
      "2018.codeheat.org\n",
      "Xoai-Artwork\n",
      "lxde-artwork\n",
      "lubuntu-artwork\n",
      "knitting.fossasia.org\n",
      "KikiAuth\n",
      "lxlauncher-vala\n",
      "x-mario-center\n",
      "events.fossasia.org\n",
      "open-event-organizer-android\n",
      "2013.fossasia.org\n",
      "gci16.fossasia.org\n",
      "susper-backbone\n",
      "loklak_heatmapper\n",
      "loklak_telegrambot\n",
      "susi_server\n",
      "codeheat.org\n",
      "loklak_search\n",
      "susi_fbbot\n",
      "susi_telegrambot\n",
      "susi_android\n",
      "calendar.fossasia.org\n",
      "sciencehack-artwork\n",
      "susi_kikbot\n",
      "susi_artwork\n",
      "dev.susi.ai\n",
      "fossbridge-artwork\n",
      "searss\n",
      "tofsims\n",
      "mbdyn-gci\n",
      "susi_tweetbot\n",
      "query-server\n",
      "green-park-2\n",
      "susi_wechatbot\n",
      "event-collect\n",
      "loklak_EmojiTracker\n",
      "geolocation\n",
      "susi_desktop\n",
      "support.eventyay.com\n",
      "susper.com\n",
      "susi_iOS\n",
      "pslab-firmware\n",
      "pslab-hardware\n",
      "pslab-android\n",
      "star-me\n",
      "jobs.fossasia.org\n",
      "susi_api_wrapper\n",
      "open-event-frontend\n",
      "susi_viberbot\n",
      "susi_linux\n",
      "asksusi\n",
      "admin.susi.ai\n",
      "open-event-theme\n",
      "susi_skill_data\n",
      "susi_skill_cms\n",
      "yaydoc\n",
      "susi_linebot\n",
      "connfa-android\n",
      "susi_skypebot\n",
      "loklak_scraper_js\n",
      "arch-travis\n",
      "mew\n",
      "loklak_publisher\n",
      "meilix-generator\n",
      "badgeyay\n",
      "accounts.susi.ai\n",
      "susi_gitterbot\n",
      "giggity\n",
      "giraffe\n",
      "MMM-SUSI-AI\n",
      "susi_alexa_skill\n",
      "susi_cortana_skill\n",
      "sphinx_fossasia_theme\n",
      "mvisc\n",
      "susi_gassistantbot\n",
      "loklak-timeline-plugin\n",
      "pslab-webapp\n",
      "susi_hangoutbot\n",
      "sphinx_susiai_theme\n",
      "phimpme-artwork\n",
      "pslab-artwork\n",
      "2016.codeheat.org\n",
      "2017.codeheat.org\n",
      "susi_chromebot\n",
      "susi_firefoxbot\n",
      "opendesign.asia\n",
      "sciencetech.asia\n",
      "sphinx_phimpme_theme\n",
      "scrum_helper\n",
      "open-event-legacy\n",
      "neurolab-desktop\n",
      "meilix-artwork\n",
      "eventyay-artwork\n",
      "jugaadfest-artwork\n",
      "neurolab-android\n",
      "codeheat-artwork\n",
      "neurolab-firmware\n",
      "open-event-organizer-ios\n",
      "pslab-documentation\n",
      "publiccode.asia\n",
      "labyrinth\n",
      "Flask_Simple_Form\n",
      "Ember_Simple_Calculator\n",
      "2019.fossasia.org\n",
      "Connect-Me\n",
      "dmca\n",
      "meilix.org\n",
      "flask-rest-jsonapi\n",
      "susi_twitchbot\n",
      "susi_zulipbot\n",
      "snowboy\n",
      "gci18.fossasia.org\n",
      "pi-gen\n",
      "jp.pslab.io\n",
      "in.pslab.io\n",
      "fossasia-jekyll-theme\n",
      "fossasia.sg\n",
      "pslab-iOS\n",
      "summit.fossasia.org\n",
      "photos.fossasia.org\n",
      "susi_installer\n",
      "susi_python\n",
      "susi_speech_server\n",
      "FOSSASIA-Office\n",
      "temp\n",
      "fossasia.tw\n",
      "orgmanager\n",
      "hyderabad.jugaadfest.com\n",
      "delhi.jugaadfest.com\n",
      "speech_recognition\n",
      "led-name-badge-ls32\n"
     ]
    }
   ],
   "source": [
    "h={\"Authorization\": \"token #######################\"}\n",
    "for j in range(1,9):\n",
    "    para = {\"page\":j}\n",
    "    r = requests.get(\"https://api.github.com/orgs/fossasia/repos\", headers=h, params=para)\n",
    "    py_data=r.json()\n",
    "    for i in py_data:\n",
    "        print(i[\"name\"])"
   ]
  }
 ],
 "metadata": {
  "kernelspec": {
   "display_name": "Python 3",
   "language": "python",
   "name": "python3"
  },
  "language_info": {
   "codemirror_mode": {
    "name": "ipython",
    "version": 3
   },
   "file_extension": ".py",
   "mimetype": "text/x-python",
   "name": "python",
   "nbconvert_exporter": "python",
   "pygments_lexer": "ipython3",
   "version": "3.7.3"
  }
 },
 "nbformat": 4,
 "nbformat_minor": 2
}
