{
 "cells": [
  {
   "cell_type": "code",
   "execution_count": 61,
   "metadata": {},
   "outputs": [],
   "source": [
    "import sqlite3\n",
    "import pandas as pd\n",
    "import numpy as np"
   ]
  },
  {
   "cell_type": "code",
   "execution_count": 32,
   "metadata": {},
   "outputs": [
    {
     "name": "stdout",
     "output_type": "stream",
     "text": [
      "Drama 77\n",
      "Adventure 43\n",
      "Action 33\n",
      "Comedy 31\n",
      "Biography 21\n",
      "Sci-Fi 18\n",
      "Thriller 14\n",
      "Animation 13\n",
      "Romance 13\n",
      "Crime 11\n",
      "Mystery 7\n",
      "Fantasy 7\n",
      "History 6\n",
      "Family 3\n",
      "Music 3\n",
      "Sport 3\n",
      "War 2\n",
      "Western 2\n",
      "Horror 2\n",
      "Musical 1\n"
     ]
    }
   ],
   "source": [
    "\n",
    "\n",
    "db=sqlite3.connect('IMDB.sqlite')\n",
    "\n",
    "imdb=pd.read_sql_query(\"Select * from IMDB\",db)\n",
    "\n",
    "genre=pd.read_sql_query(\"Select * from genre\",db)\n",
    "\n",
    "genre_name=genre['genre'].value_counts().index\n",
    "\n",
    "genre_count=genre['genre'].value_counts().values\n",
    "for i in range(len(genre_name)):\n",
    "    if genre_name[i]!='':\n",
    "        print(genre_name[i],genre_count[i])\n",
    "db.close()"
   ]
  },
  {
   "cell_type": "code",
   "execution_count": 64,
   "metadata": {},
   "outputs": [
    {
     "name": "stdout",
     "output_type": "stream",
     "text": [
      "8.1\n"
     ]
    }
   ],
   "source": [
    "db=sqlite3.connect('IMDB.sqlite')\n",
    "\n",
    "imdb=pd.read_sql_query(\"select * from IMDB\",db)\n",
    "earning=pd.read_sql_query(\"select * from earning\",db)\n",
    "genre=pd.read_sql_query(\"select * from genre\",db)\n",
    "\n",
    "imdb_earning=pd.merge(imdb,earning,on=\"Movie_id\")\n",
    "\n",
    "imdb_earning[\"Domestic\"].replace(\"\",0,inplace=True)\n",
    "imdb_earning[\"Worldwide\"].replace(\"\",0,inplace=True)\n",
    "\n",
    "imdb_earning[\"Total Earning\"]=imdb_earning[\"Domestic\"]+imdb_earning[\"Worldwide\"]\n",
    "\n",
    "print(imdb_earning[imdb_earning[\"Total Earning\"]==max(imdb_earning[\"Total Earning\"])][\"Rating\"].values[0])\n",
    "db.close()"
   ]
  },
  {
   "cell_type": "code",
   "execution_count": 89,
   "metadata": {},
   "outputs": [
    {
     "name": "stdout",
     "output_type": "stream",
     "text": [
      "Inception (2010) 8.8\n"
     ]
    }
   ],
   "source": [
    "db=sqlite3.connect('IMDB.sqlite')\n",
    "\n",
    "imdb=pd.read_sql_query(\"select * from IMDB\",db)\n",
    "\n",
    "imdb_max_votes=max(imdb[\"TotalVotes\"])\n",
    "data = imdb[imdb[\"TotalVotes\"]==imdb_max_votes]\n",
    "print(data[\"Title\"].values[0],data[\"Rating\"].values[0])\n",
    "db.close()\n"
   ]
  },
  {
   "cell_type": "code",
   "execution_count": 100,
   "metadata": {},
   "outputs": [
    {
     "name": "stdout",
     "output_type": "stream",
     "text": [
      "The Wolf of Wall Street (2013) 180 min\n"
     ]
    }
   ],
   "source": [
    "db=sqlite3.connect('IMDB.sqlite')\n",
    "\n",
    "imdb=pd.read_sql_query(\"select * from IMDB\",db)\n",
    "imdb[\"Runtime\"].replace(\"\",\"0\",inplace=True)\n",
    "def f(c):\n",
    "    return int(c.split()[0])\n",
    "\n",
    "imdb[\"Runtime\"]=imdb[\"Runtime\"].apply(f)\n",
    "\n",
    "imdb_max_runtime=max(imdb[\"Runtime\"])\n",
    "\n",
    "data = imdb[imdb[\"Runtime\"]==imdb_max_runtime]\n",
    "print(data[\"Title\"].values[0],data[\"Runtime\"].values[0],\"min\")\n",
    "db.close()"
   ]
  },
  {
   "cell_type": "code",
   "execution_count": 105,
   "metadata": {},
   "outputs": [
    {
     "name": "stdout",
     "output_type": "stream",
     "text": [
      "Star Wars: The Force Awakens (2015)\n"
     ]
    }
   ],
   "source": [
    "db=sqlite3.connect('IMDB.sqlite')\n",
    "\n",
    "imdb=pd.read_sql_query(\"select * from IMDB\",db)\n",
    "earning=pd.read_sql_query(\"select * from earning\",db)\n",
    "\n",
    "imdb_earning=pd.merge(imdb,earning,on=\"Movie_id\")\n",
    "\n",
    "imdb_earning[\"Domestic\"].replace(\"\",0,inplace=True)\n",
    "imdb_earning[\"Worldwide\"].replace(\"\",0,inplace=True)\n",
    "imdb_earning[\"Budget\"].replace(\"\",0,inplace=True)\n",
    "\n",
    "imdb_earning[\"Profit\"]=imdb_earning[\"Domestic\"]+imdb_earning[\"Worldwide\"]-imdb_earning[\"Budget\"]\n",
    "\n",
    "imdb_profit=max(imdb_earning[\"Profit\"])\n",
    "data = imdb_earning[imdb_earning[\"Profit\"]==imdb_profit]\n",
    "print(data[\"Title\"].values[0])\n",
    "db.close()\n"
   ]
  },
  {
   "cell_type": "code",
   "execution_count": 110,
   "metadata": {},
   "outputs": [
    {
     "name": "stdout",
     "output_type": "stream",
     "text": [
      "Short Term 12 (2013)\n"
     ]
    }
   ],
   "source": [
    "db=sqlite3.connect('IMDB.sqlite')\n",
    "\n",
    "imdb=pd.read_sql_query(\"select * from IMDB\",db)\n",
    "earning=pd.read_sql_query(\"select * from earning\",db)\n",
    "\n",
    "imdb_earning=pd.merge(imdb,earning,on=\"Movie_id\")\n",
    "imdb_earning = imdb_earning[imdb_earning['Budget'] != '']\n",
    "\n",
    "imdb_earning[\"Domestic\"].replace(\"\",0,inplace=True)\n",
    "imdb_earning[\"Worldwide\"].replace(\"\",0,inplace=True)\n",
    "imdb_earning[\"Budget\"].replace(\"\",0,inplace=True)\n",
    "\n",
    "imdb_earning[\"Profit\"]=imdb_earning[\"Domestic\"]+imdb_earning[\"Worldwide\"]-imdb_earning[\"Budget\"]\n",
    "\n",
    "least_budget=min(imdb_earning[\"Budget\"])\n",
    "\n",
    "\n",
    "data = imdb_earning[imdb_earning[\"Budget\"]==least_budget]\n",
    "print(data[\"Title\"].values[0])\n",
    "db.close()"
   ]
  },
  {
   "cell_type": "markdown",
   "metadata": {},
   "source": [
    "# IMDB Year Top"
   ]
  },
  {
   "cell_type": "code",
   "execution_count": 36,
   "metadata": {},
   "outputs": [
    {
     "name": "stdout",
     "output_type": "stream",
     "text": [
      "2010 Toy Story 3 (2010)\n",
      "2011 Rise of the Planet of the Apes (2011)\n",
      "2012 The Avengers (2012)\n",
      "2013 The Hunger Games: Catching Fire (2013)\n",
      "2014 Guardians of the Galaxy (2014)\n",
      "2015 Star Wars: The Force Awakens (2015)\n",
      "2016 Rogue One (2016)\n"
     ]
    }
   ],
   "source": [
    "db=sqlite3.connect('IMDB.sqlite')\n",
    "\n",
    "imdb=pd.read_sql_query(\"select * from IMDB\",db)\n",
    "earning=pd.read_sql_query(\"select * from earning\",db)\n",
    "genre=pd.read_sql_query(\"select * from genre\",db)\n",
    "\n",
    "imdb_earning=pd.merge(imdb,earning,on=\"Movie_id\")\n",
    "\n",
    "def f(c):\n",
    "    return (c.split()[-1]).strip(\"()\")\n",
    "\n",
    "imdb_earning[\"Year\"]=imdb_earning[\"Title\"].apply(f)\n",
    "\n",
    "imdb_earning[\"Domestic\"].replace(\"\",0,inplace=True)\n",
    "imdb_earning[\"Worldwide\"].replace(\"\",0,inplace=True)\n",
    "\n",
    "imdb_earning[\"Total Earning\"]=imdb_earning[\"Domestic\"]+imdb_earning[\"Worldwide\"]\n",
    "year=sorted(imdb_earning[\"Year\"].value_counts().index)             ########################\n",
    "\n",
    "for i in range(len(year)):\n",
    "    earning=max(imdb_earning[imdb_earning[\"Year\"]==year[i]][\"Total Earning\"])\n",
    "    name=imdb_earning[imdb_earning[\"Total Earning\"]==earning][\"Title\"]\n",
    "    print(year[i],name.values[0])\n",
    "db.close()"
   ]
  },
  {
   "cell_type": "markdown",
   "metadata": {},
   "source": [
    "# IMDB genre budget"
   ]
  },
  {
   "cell_type": "code",
   "execution_count": 66,
   "metadata": {},
   "outputs": [
    {
     "name": "stdout",
     "output_type": "stream",
     "text": [
      "Action 17.98\n",
      "Adventure 25.10\n",
      "Animation 7.66\n",
      "Biography 2.59\n",
      "Comedy 7.22\n",
      "Crime 1.77\n",
      "Drama 10.85\n",
      "Mystery 1.95\n",
      "Family 1.91\n",
      "Fantasy 4.54\n",
      "History 0.72\n",
      "Horror 0.03\n",
      "Music 0.15\n",
      "Musical 0.25\n",
      "Romance 1.12\n",
      "Sci-Fi 10.77\n",
      "Sport 0.46\n",
      "Thriller 3.99\n",
      "War 0.36\n",
      "Western 0.57\n"
     ]
    }
   ],
   "source": [
    "db=sqlite3.connect('IMDB.sqlite')\n",
    "\n",
    "imdb=pd.read_sql_query(\"select * from IMDB\",db)\n",
    "earning=pd.read_sql_query(\"select * from earning\",db)\n",
    "genre=pd.read_sql_query(\"select * from genre\",db)\n",
    "\n",
    "movie_id=genre[\"Movie_id\"].value_counts().index\n",
    "\n",
    "genre_array=[]\n",
    "for i in range(len(movie_id)):\n",
    "    single_genre=[]\n",
    "    single=genre[genre[\"Movie_id\"]==movie_id[i]][\"genre\"].values\n",
    "    single_genre.append(movie_id[i])\n",
    "    for j in single:\n",
    "        single_genre.append(j)\n",
    "    genre_array.append(single_genre)\n",
    "    \n",
    "new_genre=pd.DataFrame(genre_array,columns=[\"Movie_id\",\"genre_1\",\"genre_2\",\"genre_3\"])\n",
    "\n",
    "result=pd.merge(imdb,new_genre,on=\"Movie_id\")\n",
    "\n",
    "result[\"Budget\"].replace(\"\",0,inplace=True)\n",
    "\n",
    "genre_1_name=result.groupby(\"genre_1\")[\"Budget\"].sum().index\n",
    "genre_1_amount=result.groupby(\"genre_1\")[\"Budget\"].sum().values\n",
    "genre_2_name=result.groupby(\"genre_2\")[\"Budget\"].sum().index\n",
    "genre_2_amount=result.groupby(\"genre_2\")[\"Budget\"].sum().values\n",
    "genre_3_name=result.groupby(\"genre_3\")[\"Budget\"].sum().index\n",
    "genre_3_amount=result.groupby(\"genre_3\")[\"Budget\"].sum().values\n",
    "\n",
    "genre_name={}\n",
    "for i in range(len(genre_1_name)):\n",
    "    genre_name[genre_1_name[i]]=genre_1_amount[i]\n",
    "for i in range(len(genre_2_name)):\n",
    "    if genre_2_name[i] in genre_name:\n",
    "        genre_name[genre_2_name[i]]=genre_name.get(genre_2_name[i])+genre_2_amount[i]\n",
    "    else:\n",
    "        genre_name[genre_2_name[i]]=genre_2_amount[i]\n",
    "for i in range(len(genre_3_name)):\n",
    "    if genre_3_name[i] in genre_name:\n",
    "        genre_name[genre_3_name[i]]=genre_name.get(genre_3_name[i])+genre_3_amount[i]\n",
    "    else:\n",
    "        genre_name[genre_3_name[i]]=genre_3_amount[i]\n",
    "del genre_name[\"\"]\n",
    "\n",
    "genre_names=np.array(list(genre_name.keys()))\n",
    "genre_amount=np.array(list(genre_name.values()))\n",
    "\n",
    "perAmount=np.true_divide(genre_amount,genre_amount.sum())*100\n",
    "\n",
    "for i in range(len(genre_names)):\n",
    "    print(genre_names[i],format(perAmount[i],\".2f\"))\n",
    "\n",
    "db.close()\n",
    "    "
   ]
  },
  {
   "cell_type": "markdown",
   "metadata": {},
   "source": [
    "# IMDB genre earning\n"
   ]
  },
  {
   "cell_type": "code",
   "execution_count": 111,
   "metadata": {},
   "outputs": [
    {
     "name": "stdout",
     "output_type": "stream",
     "text": [
      "Action 17.91\n",
      "Adventure 23.57\n",
      "Animation 6.77\n",
      "Biography 3.42\n",
      "Comedy 7.69\n",
      "Crime 1.55\n",
      "Drama 11.96\n",
      "Mystery 2.01\n",
      "Family 1.05\n",
      "Fantasy 5.15\n",
      "History 1.04\n",
      "Horror 0.01\n",
      "Music 0.43\n",
      "Musical 0.38\n",
      "Romance 1.45\n",
      "Sci-Fi 9.95\n",
      "Sport 0.32\n",
      "Thriller 4.42\n",
      "War 0.25\n",
      "Western 0.65\n"
     ]
    }
   ],
   "source": [
    "db=sqlite3.connect(\"IMDB.sqlite\")\n",
    "\n",
    "imdb=pd.read_sql_query(\"select * from imdb\",db)\n",
    "earning=pd.read_sql_query(\"select * from earning\",db)\n",
    "genre=pd.read_sql_query(\"select * from genre\",db)\n",
    "\n",
    "movie_id=genre[\"Movie_id\"].value_counts().index\n",
    "\n",
    "genre_array=[]\n",
    "\n",
    "for i in range(len(movie_id)):\n",
    "    single_genre=[]\n",
    "    single = genre[genre[\"Movie_id\"]==movie_id[i]][\"genre\"].values\n",
    "    single_genre.append(movie_id[i])\n",
    "    for i in single:\n",
    "        single_genre.append(i)\n",
    "    genre_array.append(single_genre)\n",
    "\n",
    "new_genre=pd.DataFrame(genre_array,columns=[\"Movie_id\",\"genre_1\",\"genre_2\",\"genre_3\"])\n",
    "\n",
    "result=pd.merge(imdb,new_genre,on=\"Movie_id\")\n",
    "\n",
    "earning[\"Domestic\"].replace(\"\",0,inplace=True)\n",
    "earning[\"Worldwide\"].replace(\"\",0,inplace=True)\n",
    "earning[\"Total Earning\"]=earning[\"Domestic\"]+earning[\"Worldwide\"]\n",
    "\n",
    "imdb_earning_genre = pd.merge(result,earning,on=\"Movie_id\")\n",
    "\n",
    "genre_1_name = imdb_earning_genre.groupby(\"genre_1\")[\"Total Earning\"].sum().index\n",
    "genre_1_earning = imdb_earning_genre.groupby(\"genre_1\")[\"Total Earning\"].sum().values\n",
    "    \n",
    "genre_2_name = imdb_earning_genre.groupby(\"genre_2\")[\"Total Earning\"].sum().index\n",
    "genre_2_earning = imdb_earning_genre.groupby(\"genre_2\")[\"Total Earning\"].sum().values\n",
    "\n",
    "genre_3_name = imdb_earning_genre.groupby(\"genre_3\")[\"Total Earning\"].sum().index\n",
    "genre_3_earning = imdb_earning_genre.groupby(\"genre_3\")[\"Total Earning\"].sum().values\n",
    "\n",
    "genre_dict={}\n",
    "\n",
    "for i in range(len(genre_1_name)):\n",
    "    genre_dict[genre_1_name[i]] = genre_1_earning[i]\n",
    "    \n",
    "for i in range(len(genre_2_name)):\n",
    "    if genre_2_name[i] in genre_dict:\n",
    "        genre_dict[genre_2_name[i]] = genre_dict.get(genre_2_name[i]) + genre_2_earning[i]\n",
    "    else:\n",
    "        genre_dict[genre_2_name[i]] = genre_2_earning[i]\n",
    "\n",
    "for i in range(len(genre_3_name)):\n",
    "    if genre_3_name[i] in genre_dict:\n",
    "        genre_dict[genre_3_name[i]] = genre_dict.get(genre_3_name[i]) + genre_3_earning[i]\n",
    "    else:\n",
    "        genre_dict[genre_3_name[i]] = genre_3_earning[i]\n",
    "del genre_dict[\"\"]\n",
    "        \n",
    "genre_name_np = np.array(list(genre_dict.keys()))\n",
    "genre_earning_np = np.array(list(genre_dict.values()))\n",
    "\n",
    "perAmount = np.true_divide(genre_earning_np,genre_earning_np.sum())*100\n",
    "\n",
    "for i in range(len(genre_name_np)):\n",
    "    print(genre_name_np[i],format(perAmount[i],\".2f\"))\n",
    "    \n",
    "db.close()"
   ]
  },
  {
   "cell_type": "markdown",
   "metadata": {},
   "source": [
    "# IMDB Specific Genre\n"
   ]
  },
  {
   "cell_type": "code",
   "execution_count": 140,
   "metadata": {},
   "outputs": [
    {
     "name": "stdout",
     "output_type": "stream",
     "text": [
      "Arrival (2016)\n"
     ]
    }
   ],
   "source": [
    "db=sqlite3.connect(\"IMDB.sqlite\")\n",
    "\n",
    "imdb=pd.read_sql_query(\"select * from imdb\",db)\n",
    "earning=pd.read_sql_query(\"select * from earning\",db)\n",
    "genre=pd.read_sql_query(\"select * from genre\",db)\n",
    "\n",
    "movie_id = genre[\"Movie_id\"].value_counts().index\n",
    "\n",
    "genre_array = []\n",
    "\n",
    "for i in range(len(movie_id)):\n",
    "    single_genre = []\n",
    "    single = genre[genre[\"Movie_id\"]==movie_id[i]][\"genre\"].values\n",
    "    single_genre.append(movie_id[i])\n",
    "    for i in single:\n",
    "        single_genre.append(i)\n",
    "    genre_array.append(single_genre)\n",
    "\n",
    "new_genre = pd.DataFrame(genre_array,columns=[\"Movie_id\",\"genre_1\",\"genre_2\",\"genre_3\"])\n",
    "\n",
    "result=pd.merge(imdb,new_genre,on=\"Movie_id\")\n",
    "\n",
    "sci_genre = result[(result[\"genre_1\"]==\"Sci-Fi\") | (result[\"genre_2\"]==\"Sci-Fi\") | (result[\"genre_3\"]==\"Sci-Fi\")]\n",
    "\n",
    "mys_genre = sci_genre[(sci_genre[\"genre_1\"]==\"Mystery\") | (sci_genre[\"genre_2\"]==\"Mystery\") | (sci_genre[\"genre_3\"]==\"Mystery\")]\n",
    "\n",
    "print(mys_genre[mys_genre[\"Rating\"] >= 8][\"Title\"].values[0])"
   ]
  },
  {
   "cell_type": "code",
   "execution_count": null,
   "metadata": {},
   "outputs": [],
   "source": []
  }
 ],
 "metadata": {
  "kernelspec": {
   "display_name": "Python 3",
   "language": "python",
   "name": "python3"
  },
  "language_info": {
   "codemirror_mode": {
    "name": "ipython",
    "version": 3
   },
   "file_extension": ".py",
   "mimetype": "text/x-python",
   "name": "python",
   "nbconvert_exporter": "python",
   "pygments_lexer": "ipython3",
   "version": "3.7.3"
  }
 },
 "nbformat": 4,
 "nbformat_minor": 2
}
